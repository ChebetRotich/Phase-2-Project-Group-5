{
 "cells": [
  {
   "cell_type": "markdown",
   "metadata": {},
   "source": [
    "# Phase 2 Project (Group 5) \n"
   ]
  },
  {
   "cell_type": "markdown",
   "metadata": {},
   "source": [
    "<h1><center>From Scripts to Screens: Analyzing Revenue, Genre Evolution and Industry Trends in Movie Production</center></h1>\n"
   ]
  },
  {
   "cell_type": "markdown",
   "metadata": {},
   "source": [
    "![Movie Theater Night Out](https://www.fromfrugaltofree.com/wp-content/uploads/2023/12/movie-theater-night-out-e1691641716226-1170x550.jpg.webp)"
   ]
  },
  {
   "cell_type": "markdown",
   "metadata": {},
   "source": [
    "## Project Problem"
   ]
  },
  {
   "cell_type": "markdown",
   "metadata": {},
   "source": [
    "Your company now sees all the big companies creating original video content and they want to get in on the fun. They have decided to create a new movie studio, but they don’t know anything about creating movies. You are charged with exploring what types of films are currently doing the best at the box office. You must then translate those findings into actionable insights that the head of your company's new movie studio can use to help decide what type of films to create."
   ]
  },
  {
   "cell_type": "markdown",
   "metadata": {},
   "source": [
    "## 1. Project Introduction\n",
    "\n",
    "In recent years, the film industry has experienced rapid growth, with streaming services and traditional studios alike competing for viewers' attention. For companies entering this space, understanding the dynamics of profitability is essential. One of the most influential factors in a movie's financial success is its genre, which can heavily influence production costs, audience appeal, and box office revenue. This report explores the profitability of different film genres, helping new studios make data-informed decisions about which genres to focus on in future productions.\n",
    "\n",
    "As we analyze the trends and performance metrics associated with various genres, our goal is to identify patterns and factors contributing to profitability. This analysis not only focuses on historical box office success but also considers seasonal trends, budget requirements, and audience preferences to create a comprehensive view of genre-driven profitability.\n",
    "\n",
    "---\n",
    "\n",
    "*Key Questions Addressed in This Report:*\n",
    "\n",
    "Q1. What is the relationship between production budgets and profitability in terms of both Domestic Earnings and Worldwide Earnings?\n",
    "\n",
    "Q2. Which Genres Are Most Profitable, and What Key Trends Exist in Box Office Performance?\n",
    "\n",
    "Q3. How do certain directors influence, and which directors consistently contribute to higher success in box office performance?\n",
    "\n",
    "Q4. How do critic ratings and audience ratings correlate with the box office performance metrics movies?\n",
    "\n",
    "Q5. What are the market trends by year whether seasonal or annual that influences box office success?\n",
    "\n",
    "This report combines historical data with analytical insights to help studios navigate the complex landscape of genre profitability. By addressing these questions, it aims to offer practical guidance on selecting film genres that align with both audience demand and financial objectives.\n"
   ]
  },
  {
   "cell_type": "markdown",
   "metadata": {},
   "source": [
    "## 2. Data Collection"
   ]
  },
  {
   "cell_type": "markdown",
   "metadata": {},
   "source": [
    "In this section, we want to make sure the data covers a reasonable time range to analyze recent trends and we also want to ensure consistency in the data especially regarding the revenue.\n",
    "The sources of the data are ;\n",
    "- Rotten Tomatoes\n",
    "- The Numbers"
   ]
  },
  {
   "cell_type": "code",
   "execution_count": 74,
   "metadata": {},
   "outputs": [],
   "source": [
    "# import necessary libraries\n",
    "\n",
    "import pandas as pd\n",
    "import numpy as np\n",
    "import matplotlib.pyplot as plt\n",
    "import seaborn as sns\n",
    "from sklearn.model_selection import train_test_split\n",
    "from sklearn.linear_model import LinearRegression\n",
    "import statsmodels.api as sm\n",
    "import requests\n",
    "import zipfile\n",
    "import os\n",
    "import warnings\n",
    "warnings.filterwarnings('ignore')\n"
   ]
  },
  {
   "cell_type": "code",
   "execution_count": 92,
   "metadata": {},
   "outputs": [
    {
     "data": {
      "text/html": [
       "<div>\n",
       "<style scoped>\n",
       "    .dataframe tbody tr th:only-of-type {\n",
       "        vertical-align: middle;\n",
       "    }\n",
       "\n",
       "    .dataframe tbody tr th {\n",
       "        vertical-align: top;\n",
       "    }\n",
       "\n",
       "    .dataframe thead th {\n",
       "        text-align: right;\n",
       "    }\n",
       "</style>\n",
       "<table border=\"1\" class=\"dataframe\">\n",
       "  <thead>\n",
       "    <tr style=\"text-align: right;\">\n",
       "      <th></th>\n",
       "      <th>id</th>\n",
       "      <th>synopsis</th>\n",
       "      <th>rating</th>\n",
       "      <th>genre</th>\n",
       "      <th>director</th>\n",
       "      <th>writer</th>\n",
       "      <th>theater_date</th>\n",
       "      <th>dvd_date</th>\n",
       "      <th>currency</th>\n",
       "      <th>box_office</th>\n",
       "      <th>runtime</th>\n",
       "      <th>studio</th>\n",
       "    </tr>\n",
       "  </thead>\n",
       "  <tbody>\n",
       "    <tr>\n",
       "      <th>0</th>\n",
       "      <td>1</td>\n",
       "      <td>This gritty, fast-paced, and innovative police...</td>\n",
       "      <td>R</td>\n",
       "      <td>Action and Adventure|Classics|Drama</td>\n",
       "      <td>William Friedkin</td>\n",
       "      <td>Ernest Tidyman</td>\n",
       "      <td>Oct 9, 1971</td>\n",
       "      <td>Sep 25, 2001</td>\n",
       "      <td>NaN</td>\n",
       "      <td>NaN</td>\n",
       "      <td>104 minutes</td>\n",
       "      <td>NaN</td>\n",
       "    </tr>\n",
       "    <tr>\n",
       "      <th>1</th>\n",
       "      <td>3</td>\n",
       "      <td>New York City, not-too-distant-future: Eric Pa...</td>\n",
       "      <td>R</td>\n",
       "      <td>Drama|Science Fiction and Fantasy</td>\n",
       "      <td>David Cronenberg</td>\n",
       "      <td>David Cronenberg|Don DeLillo</td>\n",
       "      <td>Aug 17, 2012</td>\n",
       "      <td>Jan 1, 2013</td>\n",
       "      <td>$</td>\n",
       "      <td>600,000</td>\n",
       "      <td>108 minutes</td>\n",
       "      <td>Entertainment One</td>\n",
       "    </tr>\n",
       "    <tr>\n",
       "      <th>2</th>\n",
       "      <td>5</td>\n",
       "      <td>Illeana Douglas delivers a superb performance ...</td>\n",
       "      <td>R</td>\n",
       "      <td>Drama|Musical and Performing Arts</td>\n",
       "      <td>Allison Anders</td>\n",
       "      <td>Allison Anders</td>\n",
       "      <td>Sep 13, 1996</td>\n",
       "      <td>Apr 18, 2000</td>\n",
       "      <td>NaN</td>\n",
       "      <td>NaN</td>\n",
       "      <td>116 minutes</td>\n",
       "      <td>NaN</td>\n",
       "    </tr>\n",
       "    <tr>\n",
       "      <th>3</th>\n",
       "      <td>6</td>\n",
       "      <td>Michael Douglas runs afoul of a treacherous su...</td>\n",
       "      <td>R</td>\n",
       "      <td>Drama|Mystery and Suspense</td>\n",
       "      <td>Barry Levinson</td>\n",
       "      <td>Paul Attanasio|Michael Crichton</td>\n",
       "      <td>Dec 9, 1994</td>\n",
       "      <td>Aug 27, 1997</td>\n",
       "      <td>NaN</td>\n",
       "      <td>NaN</td>\n",
       "      <td>128 minutes</td>\n",
       "      <td>NaN</td>\n",
       "    </tr>\n",
       "    <tr>\n",
       "      <th>4</th>\n",
       "      <td>7</td>\n",
       "      <td>NaN</td>\n",
       "      <td>NR</td>\n",
       "      <td>Drama|Romance</td>\n",
       "      <td>Rodney Bennett</td>\n",
       "      <td>Giles Cooper</td>\n",
       "      <td>NaN</td>\n",
       "      <td>NaN</td>\n",
       "      <td>NaN</td>\n",
       "      <td>NaN</td>\n",
       "      <td>200 minutes</td>\n",
       "      <td>NaN</td>\n",
       "    </tr>\n",
       "  </tbody>\n",
       "</table>\n",
       "</div>"
      ],
      "text/plain": [
       "   id                                           synopsis rating  \\\n",
       "0   1  This gritty, fast-paced, and innovative police...      R   \n",
       "1   3  New York City, not-too-distant-future: Eric Pa...      R   \n",
       "2   5  Illeana Douglas delivers a superb performance ...      R   \n",
       "3   6  Michael Douglas runs afoul of a treacherous su...      R   \n",
       "4   7                                                NaN     NR   \n",
       "\n",
       "                                 genre          director  \\\n",
       "0  Action and Adventure|Classics|Drama  William Friedkin   \n",
       "1    Drama|Science Fiction and Fantasy  David Cronenberg   \n",
       "2    Drama|Musical and Performing Arts    Allison Anders   \n",
       "3           Drama|Mystery and Suspense    Barry Levinson   \n",
       "4                        Drama|Romance    Rodney Bennett   \n",
       "\n",
       "                            writer  theater_date      dvd_date currency  \\\n",
       "0                   Ernest Tidyman   Oct 9, 1971  Sep 25, 2001      NaN   \n",
       "1     David Cronenberg|Don DeLillo  Aug 17, 2012   Jan 1, 2013        $   \n",
       "2                   Allison Anders  Sep 13, 1996  Apr 18, 2000      NaN   \n",
       "3  Paul Attanasio|Michael Crichton   Dec 9, 1994  Aug 27, 1997      NaN   \n",
       "4                     Giles Cooper           NaN           NaN      NaN   \n",
       "\n",
       "  box_office      runtime             studio  \n",
       "0        NaN  104 minutes                NaN  \n",
       "1    600,000  108 minutes  Entertainment One  \n",
       "2        NaN  116 minutes                NaN  \n",
       "3        NaN  128 minutes                NaN  \n",
       "4        NaN  200 minutes                NaN  "
      ]
     },
     "execution_count": 92,
     "metadata": {},
     "output_type": "execute_result"
    }
   ],
   "source": [
    "# Loading the rt.movie_info dataframe\n",
    "\n",
    "df_movie_info = pd.read_csv('zippedData/rt.movie_info.tsv.gz', compression='gzip', sep='\\t')\n",
    "df_movie_info.head()\n"
   ]
  },
  {
   "cell_type": "code",
   "execution_count": 80,
   "metadata": {},
   "outputs": [
    {
     "data": {
      "text/html": [
       "<div>\n",
       "<style scoped>\n",
       "    .dataframe tbody tr th:only-of-type {\n",
       "        vertical-align: middle;\n",
       "    }\n",
       "\n",
       "    .dataframe tbody tr th {\n",
       "        vertical-align: top;\n",
       "    }\n",
       "\n",
       "    .dataframe thead th {\n",
       "        text-align: right;\n",
       "    }\n",
       "</style>\n",
       "<table border=\"1\" class=\"dataframe\">\n",
       "  <thead>\n",
       "    <tr style=\"text-align: right;\">\n",
       "      <th></th>\n",
       "      <th>id</th>\n",
       "      <th>release_date</th>\n",
       "      <th>movie</th>\n",
       "      <th>production_budget</th>\n",
       "      <th>domestic_gross</th>\n",
       "      <th>worldwide_gross</th>\n",
       "    </tr>\n",
       "  </thead>\n",
       "  <tbody>\n",
       "    <tr>\n",
       "      <th>0</th>\n",
       "      <td>1</td>\n",
       "      <td>Dec 18, 2009</td>\n",
       "      <td>Avatar</td>\n",
       "      <td>$425,000,000</td>\n",
       "      <td>$760,507,625</td>\n",
       "      <td>$2,776,345,279</td>\n",
       "    </tr>\n",
       "    <tr>\n",
       "      <th>1</th>\n",
       "      <td>2</td>\n",
       "      <td>May 20, 2011</td>\n",
       "      <td>Pirates of the Caribbean: On Stranger Tides</td>\n",
       "      <td>$410,600,000</td>\n",
       "      <td>$241,063,875</td>\n",
       "      <td>$1,045,663,875</td>\n",
       "    </tr>\n",
       "    <tr>\n",
       "      <th>2</th>\n",
       "      <td>3</td>\n",
       "      <td>Jun 7, 2019</td>\n",
       "      <td>Dark Phoenix</td>\n",
       "      <td>$350,000,000</td>\n",
       "      <td>$42,762,350</td>\n",
       "      <td>$149,762,350</td>\n",
       "    </tr>\n",
       "    <tr>\n",
       "      <th>3</th>\n",
       "      <td>4</td>\n",
       "      <td>May 1, 2015</td>\n",
       "      <td>Avengers: Age of Ultron</td>\n",
       "      <td>$330,600,000</td>\n",
       "      <td>$459,005,868</td>\n",
       "      <td>$1,403,013,963</td>\n",
       "    </tr>\n",
       "    <tr>\n",
       "      <th>4</th>\n",
       "      <td>5</td>\n",
       "      <td>Dec 15, 2017</td>\n",
       "      <td>Star Wars Ep. VIII: The Last Jedi</td>\n",
       "      <td>$317,000,000</td>\n",
       "      <td>$620,181,382</td>\n",
       "      <td>$1,316,721,747</td>\n",
       "    </tr>\n",
       "  </tbody>\n",
       "</table>\n",
       "</div>"
      ],
      "text/plain": [
       "   id  release_date                                        movie  \\\n",
       "0   1  Dec 18, 2009                                       Avatar   \n",
       "1   2  May 20, 2011  Pirates of the Caribbean: On Stranger Tides   \n",
       "2   3   Jun 7, 2019                                 Dark Phoenix   \n",
       "3   4   May 1, 2015                      Avengers: Age of Ultron   \n",
       "4   5  Dec 15, 2017            Star Wars Ep. VIII: The Last Jedi   \n",
       "\n",
       "  production_budget domestic_gross worldwide_gross  \n",
       "0      $425,000,000   $760,507,625  $2,776,345,279  \n",
       "1      $410,600,000   $241,063,875  $1,045,663,875  \n",
       "2      $350,000,000    $42,762,350    $149,762,350  \n",
       "3      $330,600,000   $459,005,868  $1,403,013,963  \n",
       "4      $317,000,000   $620,181,382  $1,316,721,747  "
      ]
     },
     "execution_count": 80,
     "metadata": {},
     "output_type": "execute_result"
    }
   ],
   "source": [
    "# Loading the tn.movie_budgets dataframe\n",
    "\n",
    "df_movie_budgets = pd.read_csv('zippedData/tn.movie_budgets.csv.gz', compression='gzip')\n",
    "df_movie_budgets.head()"
   ]
  },
  {
   "cell_type": "code",
   "execution_count": 81,
   "metadata": {},
   "outputs": [
    {
     "data": {
      "text/html": [
       "<div>\n",
       "<style scoped>\n",
       "    .dataframe tbody tr th:only-of-type {\n",
       "        vertical-align: middle;\n",
       "    }\n",
       "\n",
       "    .dataframe tbody tr th {\n",
       "        vertical-align: top;\n",
       "    }\n",
       "\n",
       "    .dataframe thead th {\n",
       "        text-align: right;\n",
       "    }\n",
       "</style>\n",
       "<table border=\"1\" class=\"dataframe\">\n",
       "  <thead>\n",
       "    <tr style=\"text-align: right;\">\n",
       "      <th></th>\n",
       "      <th>id</th>\n",
       "      <th>review</th>\n",
       "      <th>rating</th>\n",
       "      <th>fresh</th>\n",
       "      <th>critic</th>\n",
       "      <th>top_critic</th>\n",
       "      <th>publisher</th>\n",
       "      <th>date</th>\n",
       "    </tr>\n",
       "  </thead>\n",
       "  <tbody>\n",
       "    <tr>\n",
       "      <th>0</th>\n",
       "      <td>3</td>\n",
       "      <td>A distinctly gallows take on contemporary fina...</td>\n",
       "      <td>3/5</td>\n",
       "      <td>fresh</td>\n",
       "      <td>PJ Nabarro</td>\n",
       "      <td>0</td>\n",
       "      <td>Patrick Nabarro</td>\n",
       "      <td>November 10, 2018</td>\n",
       "    </tr>\n",
       "    <tr>\n",
       "      <th>1</th>\n",
       "      <td>3</td>\n",
       "      <td>It's an allegory in search of a meaning that n...</td>\n",
       "      <td>NaN</td>\n",
       "      <td>rotten</td>\n",
       "      <td>Annalee Newitz</td>\n",
       "      <td>0</td>\n",
       "      <td>io9.com</td>\n",
       "      <td>May 23, 2018</td>\n",
       "    </tr>\n",
       "    <tr>\n",
       "      <th>2</th>\n",
       "      <td>3</td>\n",
       "      <td>... life lived in a bubble in financial dealin...</td>\n",
       "      <td>NaN</td>\n",
       "      <td>fresh</td>\n",
       "      <td>Sean Axmaker</td>\n",
       "      <td>0</td>\n",
       "      <td>Stream on Demand</td>\n",
       "      <td>January 4, 2018</td>\n",
       "    </tr>\n",
       "    <tr>\n",
       "      <th>3</th>\n",
       "      <td>3</td>\n",
       "      <td>Continuing along a line introduced in last yea...</td>\n",
       "      <td>NaN</td>\n",
       "      <td>fresh</td>\n",
       "      <td>Daniel Kasman</td>\n",
       "      <td>0</td>\n",
       "      <td>MUBI</td>\n",
       "      <td>November 16, 2017</td>\n",
       "    </tr>\n",
       "    <tr>\n",
       "      <th>4</th>\n",
       "      <td>3</td>\n",
       "      <td>... a perverse twist on neorealism...</td>\n",
       "      <td>NaN</td>\n",
       "      <td>fresh</td>\n",
       "      <td>NaN</td>\n",
       "      <td>0</td>\n",
       "      <td>Cinema Scope</td>\n",
       "      <td>October 12, 2017</td>\n",
       "    </tr>\n",
       "  </tbody>\n",
       "</table>\n",
       "</div>"
      ],
      "text/plain": [
       "   id                                             review rating   fresh  \\\n",
       "0   3  A distinctly gallows take on contemporary fina...    3/5   fresh   \n",
       "1   3  It's an allegory in search of a meaning that n...    NaN  rotten   \n",
       "2   3  ... life lived in a bubble in financial dealin...    NaN   fresh   \n",
       "3   3  Continuing along a line introduced in last yea...    NaN   fresh   \n",
       "4   3             ... a perverse twist on neorealism...     NaN   fresh   \n",
       "\n",
       "           critic  top_critic         publisher               date  \n",
       "0      PJ Nabarro           0   Patrick Nabarro  November 10, 2018  \n",
       "1  Annalee Newitz           0           io9.com       May 23, 2018  \n",
       "2    Sean Axmaker           0  Stream on Demand    January 4, 2018  \n",
       "3   Daniel Kasman           0              MUBI  November 16, 2017  \n",
       "4             NaN           0      Cinema Scope   October 12, 2017  "
      ]
     },
     "execution_count": 81,
     "metadata": {},
     "output_type": "execute_result"
    }
   ],
   "source": [
    "# Loading the rt.reviews dataframe\n",
    "\n",
    "df_reviews = pd.read_csv('zippedData/rt.reviews.tsv.gz', compression='gzip', sep='\\t', encoding='ISO-8859-1')\n",
    "df_reviews.head()"
   ]
  },
  {
   "cell_type": "markdown",
   "metadata": {},
   "source": [
    "## 3. Data Cleaning and Reprocessing"
   ]
  },
  {
   "cell_type": "markdown",
   "metadata": {},
   "source": [
    "#### Handle missing data, data formatting and data transformation"
   ]
  },
  {
   "cell_type": "markdown",
   "metadata": {},
   "source": [
    "### DF 1 : Movie_budget"
   ]
  },
  {
   "cell_type": "code",
   "execution_count": 82,
   "metadata": {},
   "outputs": [
    {
     "data": {
      "text/html": [
       "<div>\n",
       "<style scoped>\n",
       "    .dataframe tbody tr th:only-of-type {\n",
       "        vertical-align: middle;\n",
       "    }\n",
       "\n",
       "    .dataframe tbody tr th {\n",
       "        vertical-align: top;\n",
       "    }\n",
       "\n",
       "    .dataframe thead th {\n",
       "        text-align: right;\n",
       "    }\n",
       "</style>\n",
       "<table border=\"1\" class=\"dataframe\">\n",
       "  <thead>\n",
       "    <tr style=\"text-align: right;\">\n",
       "      <th></th>\n",
       "      <th>id</th>\n",
       "      <th>release_date</th>\n",
       "      <th>movie</th>\n",
       "      <th>production_budget</th>\n",
       "      <th>domestic_gross</th>\n",
       "      <th>worldwide_gross</th>\n",
       "    </tr>\n",
       "  </thead>\n",
       "  <tbody>\n",
       "    <tr>\n",
       "      <th>0</th>\n",
       "      <td>1</td>\n",
       "      <td>Dec 18, 2009</td>\n",
       "      <td>Avatar</td>\n",
       "      <td>$425,000,000</td>\n",
       "      <td>$760,507,625</td>\n",
       "      <td>$2,776,345,279</td>\n",
       "    </tr>\n",
       "    <tr>\n",
       "      <th>1</th>\n",
       "      <td>2</td>\n",
       "      <td>May 20, 2011</td>\n",
       "      <td>Pirates of the Caribbean: On Stranger Tides</td>\n",
       "      <td>$410,600,000</td>\n",
       "      <td>$241,063,875</td>\n",
       "      <td>$1,045,663,875</td>\n",
       "    </tr>\n",
       "    <tr>\n",
       "      <th>2</th>\n",
       "      <td>3</td>\n",
       "      <td>Jun 7, 2019</td>\n",
       "      <td>Dark Phoenix</td>\n",
       "      <td>$350,000,000</td>\n",
       "      <td>$42,762,350</td>\n",
       "      <td>$149,762,350</td>\n",
       "    </tr>\n",
       "    <tr>\n",
       "      <th>3</th>\n",
       "      <td>4</td>\n",
       "      <td>May 1, 2015</td>\n",
       "      <td>Avengers: Age of Ultron</td>\n",
       "      <td>$330,600,000</td>\n",
       "      <td>$459,005,868</td>\n",
       "      <td>$1,403,013,963</td>\n",
       "    </tr>\n",
       "    <tr>\n",
       "      <th>4</th>\n",
       "      <td>5</td>\n",
       "      <td>Dec 15, 2017</td>\n",
       "      <td>Star Wars Ep. VIII: The Last Jedi</td>\n",
       "      <td>$317,000,000</td>\n",
       "      <td>$620,181,382</td>\n",
       "      <td>$1,316,721,747</td>\n",
       "    </tr>\n",
       "  </tbody>\n",
       "</table>\n",
       "</div>"
      ],
      "text/plain": [
       "   id  release_date                                        movie  \\\n",
       "0   1  Dec 18, 2009                                       Avatar   \n",
       "1   2  May 20, 2011  Pirates of the Caribbean: On Stranger Tides   \n",
       "2   3   Jun 7, 2019                                 Dark Phoenix   \n",
       "3   4   May 1, 2015                      Avengers: Age of Ultron   \n",
       "4   5  Dec 15, 2017            Star Wars Ep. VIII: The Last Jedi   \n",
       "\n",
       "  production_budget domestic_gross worldwide_gross  \n",
       "0      $425,000,000   $760,507,625  $2,776,345,279  \n",
       "1      $410,600,000   $241,063,875  $1,045,663,875  \n",
       "2      $350,000,000    $42,762,350    $149,762,350  \n",
       "3      $330,600,000   $459,005,868  $1,403,013,963  \n",
       "4      $317,000,000   $620,181,382  $1,316,721,747  "
      ]
     },
     "execution_count": 82,
     "metadata": {},
     "output_type": "execute_result"
    }
   ],
   "source": [
    "# Checking the first 5 movie_budget rows\n",
    "\n",
    "df_movie_budgets.head()"
   ]
  },
  {
   "cell_type": "code",
   "execution_count": 83,
   "metadata": {},
   "outputs": [
    {
     "name": "stdout",
     "output_type": "stream",
     "text": [
      "<class 'pandas.core.frame.DataFrame'>\n",
      "RangeIndex: 5782 entries, 0 to 5781\n",
      "Data columns (total 6 columns):\n",
      " #   Column             Non-Null Count  Dtype \n",
      "---  ------             --------------  ----- \n",
      " 0   id                 5782 non-null   int64 \n",
      " 1   release_date       5782 non-null   object\n",
      " 2   movie              5782 non-null   object\n",
      " 3   production_budget  5782 non-null   object\n",
      " 4   domestic_gross     5782 non-null   object\n",
      " 5   worldwide_gross    5782 non-null   object\n",
      "dtypes: int64(1), object(5)\n",
      "memory usage: 271.2+ KB\n"
     ]
    }
   ],
   "source": [
    "# Checking the df contents\n",
    "\n",
    "df_movie_budgets.info()"
   ]
  },
  {
   "cell_type": "code",
   "execution_count": 84,
   "metadata": {},
   "outputs": [],
   "source": [
    "# Changing the column names in the df_movie_budget to title case.\n",
    "\n",
    "df_movie_budgets.columns = df_movie_budgets.columns.str.title()"
   ]
  },
  {
   "cell_type": "code",
   "execution_count": 86,
   "metadata": {},
   "outputs": [],
   "source": [
    "# Converting `release_date` to datetime format\n",
    "\n",
    "df_movie_budgets['Release_Date'] = pd.to_datetime(df_movie_budgets['Release_Date'], format='%b %d, %Y')"
   ]
  },
  {
   "cell_type": "code",
   "execution_count": 87,
   "metadata": {},
   "outputs": [],
   "source": [
    "# Extracting the year from the Release_Date column\n",
    "\n",
    "df_movie_budgets['Year'] = df_movie_budgets['Release_Date'].dt.year"
   ]
  },
  {
   "cell_type": "code",
   "execution_count": 88,
   "metadata": {},
   "outputs": [],
   "source": [
    "# Converting currency columns to numeric by removing the dollar sign\n",
    "\n",
    "for col in ['Production_Budget', 'Domestic_Gross', 'Worldwide_Gross']:\n",
    "  df_movie_budgets[col] = df_movie_budgets[col].replace('[\\$,]', '', regex=True).astype(float)\n"
   ]
  },
  {
   "cell_type": "code",
   "execution_count": 93,
   "metadata": {},
   "outputs": [
    {
     "data": {
      "text/plain": [
       "Id   Release_Date  Movie                                 Production_Budget  Domestic_Gross  Worldwide_Gross  Year\n",
       "100  2019-01-18    Glass                                 20000000.0         111035005.0     245303505.0      2019    1\n",
       "34   1984-05-23    Indiana Jones and the Temple of Doom  28000000.0         179880271.0     333080271.0      1984    1\n",
       "     1991-07-01    The Last Waltz                        35000.0            321952.0        322563.0         1991    1\n",
       "     1995-12-29    Restoration                           18000000.0         4100000.0       4100000.0        1995    1\n",
       "     1996-10-11    Trees Lounge                          1300000.0          749741.0        749741.0         1996    1\n",
       "dtype: int64"
      ]
     },
     "execution_count": 93,
     "metadata": {},
     "output_type": "execute_result"
    }
   ],
   "source": [
    "# Inspecting the first 5 rows of df_movie_budget after conversion\n",
    "\n",
    "df_movie_budgets.head()"
   ]
  },
  {
   "cell_type": "markdown",
   "metadata": {},
   "source": [
    "### DF 2 : movie_info"
   ]
  },
  {
   "cell_type": "code",
   "execution_count": 99,
   "metadata": {},
   "outputs": [
    {
     "name": "stdout",
     "output_type": "stream",
     "text": [
      "<class 'pandas.core.frame.DataFrame'>\n",
      "RangeIndex: 1560 entries, 0 to 1559\n",
      "Data columns (total 12 columns):\n",
      " #   Column        Non-Null Count  Dtype \n",
      "---  ------        --------------  ----- \n",
      " 0   Id            1560 non-null   int64 \n",
      " 1   Synopsis      1498 non-null   object\n",
      " 2   Rating        1557 non-null   object\n",
      " 3   Genre         1552 non-null   object\n",
      " 4   Director      1361 non-null   object\n",
      " 5   Writer        1111 non-null   object\n",
      " 6   Theater_Date  1201 non-null   object\n",
      " 7   Dvd_Date      1201 non-null   object\n",
      " 8   Currency      340 non-null    object\n",
      " 9   Box_Office    340 non-null    object\n",
      " 10  Runtime       1530 non-null   object\n",
      " 11  Studio        494 non-null    object\n",
      "dtypes: int64(1), object(11)\n",
      "memory usage: 146.4+ KB\n"
     ]
    }
   ],
   "source": [
    "# Checking the df contents\n",
    "\n",
    "df_movie_info.info()"
   ]
  },
  {
   "cell_type": "code",
   "execution_count": 100,
   "metadata": {},
   "outputs": [
    {
     "data": {
      "text/plain": [
       "Index(['Id', 'Synopsis', 'Rating', 'Genre', 'Director', 'Writer',\n",
       "       'Theater_Date', 'Dvd_Date', 'Currency', 'Box_Office', 'Runtime',\n",
       "       'Studio'],\n",
       "      dtype='object')"
      ]
     },
     "execution_count": 100,
     "metadata": {},
     "output_type": "execute_result"
    }
   ],
   "source": [
    "# Changing the column names in the df_movie_info to title case.\n",
    "\n",
    "df_movie_info.columns = df_movie_info.columns.str.title()\n",
    "df_movie_info.columns"
   ]
  },
  {
   "cell_type": "markdown",
   "metadata": {},
   "source": [
    "Based on our objectives, we'll be looking at `'Id'`, `'Rating'`, `'Genre'`, `'Director'`, `'Runtime'`. Therefore, all other columns will be dropped for the purpose of simplified process."
   ]
  },
  {
   "cell_type": "code",
   "execution_count": 113,
   "metadata": {},
   "outputs": [],
   "source": [
    "# Identifying the relevant columns \n",
    "\n",
    "Relevant_columns =['Id', 'Rating', 'Genre', 'Director', 'Runtime']\n",
    "df_movie_info = df_movie_info[Relevant_columns]"
   ]
  },
  {
   "cell_type": "code",
   "execution_count": 114,
   "metadata": {},
   "outputs": [
    {
     "data": {
      "text/html": [
       "<div>\n",
       "<style scoped>\n",
       "    .dataframe tbody tr th:only-of-type {\n",
       "        vertical-align: middle;\n",
       "    }\n",
       "\n",
       "    .dataframe tbody tr th {\n",
       "        vertical-align: top;\n",
       "    }\n",
       "\n",
       "    .dataframe thead th {\n",
       "        text-align: right;\n",
       "    }\n",
       "</style>\n",
       "<table border=\"1\" class=\"dataframe\">\n",
       "  <thead>\n",
       "    <tr style=\"text-align: right;\">\n",
       "      <th></th>\n",
       "      <th>Id</th>\n",
       "      <th>Rating</th>\n",
       "      <th>Genre</th>\n",
       "      <th>Director</th>\n",
       "      <th>Runtime</th>\n",
       "    </tr>\n",
       "  </thead>\n",
       "  <tbody>\n",
       "    <tr>\n",
       "      <th>0</th>\n",
       "      <td>1</td>\n",
       "      <td>R</td>\n",
       "      <td>Action and Adventure|Classics|Drama</td>\n",
       "      <td>William Friedkin</td>\n",
       "      <td>104</td>\n",
       "    </tr>\n",
       "    <tr>\n",
       "      <th>1</th>\n",
       "      <td>3</td>\n",
       "      <td>R</td>\n",
       "      <td>Drama|Science Fiction and Fantasy</td>\n",
       "      <td>David Cronenberg</td>\n",
       "      <td>108</td>\n",
       "    </tr>\n",
       "    <tr>\n",
       "      <th>2</th>\n",
       "      <td>5</td>\n",
       "      <td>R</td>\n",
       "      <td>Drama|Musical and Performing Arts</td>\n",
       "      <td>Allison Anders</td>\n",
       "      <td>116</td>\n",
       "    </tr>\n",
       "    <tr>\n",
       "      <th>3</th>\n",
       "      <td>6</td>\n",
       "      <td>R</td>\n",
       "      <td>Drama|Mystery and Suspense</td>\n",
       "      <td>Barry Levinson</td>\n",
       "      <td>128</td>\n",
       "    </tr>\n",
       "    <tr>\n",
       "      <th>4</th>\n",
       "      <td>7</td>\n",
       "      <td>NR</td>\n",
       "      <td>Drama|Romance</td>\n",
       "      <td>Rodney Bennett</td>\n",
       "      <td>200</td>\n",
       "    </tr>\n",
       "  </tbody>\n",
       "</table>\n",
       "</div>"
      ],
      "text/plain": [
       "   Id Rating                                Genre          Director  Runtime\n",
       "0   1      R  Action and Adventure|Classics|Drama  William Friedkin      104\n",
       "1   3      R    Drama|Science Fiction and Fantasy  David Cronenberg      108\n",
       "2   5      R    Drama|Musical and Performing Arts    Allison Anders      116\n",
       "3   6      R           Drama|Mystery and Suspense    Barry Levinson      128\n",
       "4   7     NR                        Drama|Romance    Rodney Bennett      200"
      ]
     },
     "execution_count": 114,
     "metadata": {},
     "output_type": "execute_result"
    }
   ],
   "source": [
    "# Dropping NaN values from the 'Rating', 'Genre', and 'Runtime' columns\n",
    "\n",
    "df_movie_info = df_movie_info.dropna(subset=['Rating', 'Genre', 'Runtime'])\n",
    "df_movie_info.head()"
   ]
  },
  {
   "cell_type": "code",
   "execution_count": 106,
   "metadata": {},
   "outputs": [
    {
     "data": {
      "text/plain": [
       "(1526, 5)"
      ]
     },
     "execution_count": 106,
     "metadata": {},
     "output_type": "execute_result"
    }
   ],
   "source": [
    "# Checking the shape of the dataframe\n",
    "\n",
    "df_movie_info.shape"
   ]
  },
  {
   "cell_type": "markdown",
   "metadata": {},
   "source": [
    "After dropping irrelevant columns and the NaN values for the relevant columns, we noted that the data is more streamlined and there was no significant impact to the data."
   ]
  },
  {
   "cell_type": "markdown",
   "metadata": {},
   "source": [
    " "
   ]
  },
  {
   "cell_type": "markdown",
   "metadata": {},
   "source": [
    "Since unknown directors will be bundled under one value, we will replace the missing values under the `Director` column to Unknown so that the data is not skewed."
   ]
  },
  {
   "cell_type": "code",
   "execution_count": 108,
   "metadata": {},
   "outputs": [
    {
     "data": {
      "text/html": [
       "<div>\n",
       "<style scoped>\n",
       "    .dataframe tbody tr th:only-of-type {\n",
       "        vertical-align: middle;\n",
       "    }\n",
       "\n",
       "    .dataframe tbody tr th {\n",
       "        vertical-align: top;\n",
       "    }\n",
       "\n",
       "    .dataframe thead th {\n",
       "        text-align: right;\n",
       "    }\n",
       "</style>\n",
       "<table border=\"1\" class=\"dataframe\">\n",
       "  <thead>\n",
       "    <tr style=\"text-align: right;\">\n",
       "      <th></th>\n",
       "      <th>Id</th>\n",
       "      <th>Rating</th>\n",
       "      <th>Genre</th>\n",
       "      <th>Director</th>\n",
       "      <th>Runtime</th>\n",
       "    </tr>\n",
       "  </thead>\n",
       "  <tbody>\n",
       "    <tr>\n",
       "      <th>0</th>\n",
       "      <td>1</td>\n",
       "      <td>R</td>\n",
       "      <td>Action and Adventure|Classics|Drama</td>\n",
       "      <td>William Friedkin</td>\n",
       "      <td>104 minutes</td>\n",
       "    </tr>\n",
       "    <tr>\n",
       "      <th>1</th>\n",
       "      <td>3</td>\n",
       "      <td>R</td>\n",
       "      <td>Drama|Science Fiction and Fantasy</td>\n",
       "      <td>David Cronenberg</td>\n",
       "      <td>108 minutes</td>\n",
       "    </tr>\n",
       "    <tr>\n",
       "      <th>2</th>\n",
       "      <td>5</td>\n",
       "      <td>R</td>\n",
       "      <td>Drama|Musical and Performing Arts</td>\n",
       "      <td>Allison Anders</td>\n",
       "      <td>116 minutes</td>\n",
       "    </tr>\n",
       "    <tr>\n",
       "      <th>3</th>\n",
       "      <td>6</td>\n",
       "      <td>R</td>\n",
       "      <td>Drama|Mystery and Suspense</td>\n",
       "      <td>Barry Levinson</td>\n",
       "      <td>128 minutes</td>\n",
       "    </tr>\n",
       "    <tr>\n",
       "      <th>4</th>\n",
       "      <td>7</td>\n",
       "      <td>NR</td>\n",
       "      <td>Drama|Romance</td>\n",
       "      <td>Rodney Bennett</td>\n",
       "      <td>200 minutes</td>\n",
       "    </tr>\n",
       "  </tbody>\n",
       "</table>\n",
       "</div>"
      ],
      "text/plain": [
       "   Id Rating                                Genre          Director  \\\n",
       "0   1      R  Action and Adventure|Classics|Drama  William Friedkin   \n",
       "1   3      R    Drama|Science Fiction and Fantasy  David Cronenberg   \n",
       "2   5      R    Drama|Musical and Performing Arts    Allison Anders   \n",
       "3   6      R           Drama|Mystery and Suspense    Barry Levinson   \n",
       "4   7     NR                        Drama|Romance    Rodney Bennett   \n",
       "\n",
       "       Runtime  \n",
       "0  104 minutes  \n",
       "1  108 minutes  \n",
       "2  116 minutes  \n",
       "3  128 minutes  \n",
       "4  200 minutes  "
      ]
     },
     "execution_count": 108,
     "metadata": {},
     "output_type": "execute_result"
    }
   ],
   "source": [
    "# Replace actual NaN values with 'Unknown' in the 'Director' column\n",
    "\n",
    "df_movie_info['Director'] = df_movie_info['Director'].replace(np.nan, 'Unknown')\n",
    "df_movie_info.head()"
   ]
  },
  {
   "cell_type": "code",
   "execution_count": 110,
   "metadata": {},
   "outputs": [],
   "source": [
    "# Converting \"Runtime\" in the df_movie_info  by removing the word \"minutes\" and converting the values to integers.\n",
    "\n",
    "for col in ['Runtime']:\n",
    "  df_movie_info[col] =  df_movie_info[col].replace('minutes', '', regex=True).astype(int)"
   ]
  },
  {
   "cell_type": "code",
   "execution_count": 115,
   "metadata": {},
   "outputs": [
    {
     "data": {
      "text/html": [
       "<div>\n",
       "<style scoped>\n",
       "    .dataframe tbody tr th:only-of-type {\n",
       "        vertical-align: middle;\n",
       "    }\n",
       "\n",
       "    .dataframe tbody tr th {\n",
       "        vertical-align: top;\n",
       "    }\n",
       "\n",
       "    .dataframe thead th {\n",
       "        text-align: right;\n",
       "    }\n",
       "</style>\n",
       "<table border=\"1\" class=\"dataframe\">\n",
       "  <thead>\n",
       "    <tr style=\"text-align: right;\">\n",
       "      <th></th>\n",
       "      <th>Id</th>\n",
       "      <th>Rating</th>\n",
       "      <th>Genre</th>\n",
       "      <th>Director</th>\n",
       "      <th>Runtime</th>\n",
       "    </tr>\n",
       "  </thead>\n",
       "  <tbody>\n",
       "    <tr>\n",
       "      <th>0</th>\n",
       "      <td>1</td>\n",
       "      <td>R</td>\n",
       "      <td>Action and Adventure</td>\n",
       "      <td>William Friedkin</td>\n",
       "      <td>104</td>\n",
       "    </tr>\n",
       "    <tr>\n",
       "      <th>0</th>\n",
       "      <td>1</td>\n",
       "      <td>R</td>\n",
       "      <td>Classics</td>\n",
       "      <td>William Friedkin</td>\n",
       "      <td>104</td>\n",
       "    </tr>\n",
       "    <tr>\n",
       "      <th>0</th>\n",
       "      <td>1</td>\n",
       "      <td>R</td>\n",
       "      <td>Drama</td>\n",
       "      <td>William Friedkin</td>\n",
       "      <td>104</td>\n",
       "    </tr>\n",
       "    <tr>\n",
       "      <th>1</th>\n",
       "      <td>3</td>\n",
       "      <td>R</td>\n",
       "      <td>Drama</td>\n",
       "      <td>David Cronenberg</td>\n",
       "      <td>108</td>\n",
       "    </tr>\n",
       "    <tr>\n",
       "      <th>1</th>\n",
       "      <td>3</td>\n",
       "      <td>R</td>\n",
       "      <td>Science Fiction and Fantasy</td>\n",
       "      <td>David Cronenberg</td>\n",
       "      <td>108</td>\n",
       "    </tr>\n",
       "  </tbody>\n",
       "</table>\n",
       "</div>"
      ],
      "text/plain": [
       "   Id Rating                        Genre          Director  Runtime\n",
       "0   1      R         Action and Adventure  William Friedkin      104\n",
       "0   1      R                     Classics  William Friedkin      104\n",
       "0   1      R                        Drama  William Friedkin      104\n",
       "1   3      R                        Drama  David Cronenberg      108\n",
       "1   3      R  Science Fiction and Fantasy  David Cronenberg      108"
      ]
     },
     "execution_count": 115,
     "metadata": {},
     "output_type": "execute_result"
    }
   ],
   "source": [
    "# To split the Genre column values into a list\n",
    "\n",
    "df_movie_info['Genre'] = df_movie_info['Genre'].str.split('|')\n",
    "\n",
    "# Explode the list to create separate rows for each genre\n",
    "\n",
    "df_movie_info = df_movie_info.explode('Genre')\n",
    "df_movie_info.head()"
   ]
  },
  {
   "cell_type": "code",
   "execution_count": 116,
   "metadata": {},
   "outputs": [
    {
     "data": {
      "text/plain": [
       "array(['R', 'NR', 'PG', 'PG-13', 'G', 'NC17'], dtype=object)"
      ]
     },
     "execution_count": 116,
     "metadata": {},
     "output_type": "execute_result"
    }
   ],
   "source": [
    "# Find the unique values in the \"Rating\" column of the df_movie_info.\n",
    "\n",
    "df_movie_info['Rating'].unique()"
   ]
  },
  {
   "cell_type": "code",
   "execution_count": 117,
   "metadata": {},
   "outputs": [
    {
     "data": {
      "text/plain": [
       "array(['Restricted', 'Not Rated', 'Parental Guidance Suggested',\n",
       "       'Parents Strongly Cautioned', 'General Audience', 'Adults Only'],\n",
       "      dtype=object)"
      ]
     },
     "execution_count": 117,
     "metadata": {},
     "output_type": "execute_result"
    }
   ],
   "source": [
    "# Mapping abbreviated movie ratings in the \"Rating\" column of the df_movie_info to their full descriptive names.\n",
    "\n",
    "rating_mapping = {\n",
    "    'G': 'General Audience',\n",
    "    'PG': 'Parental Guidance Suggested',\n",
    "    'PG-13': 'Parents Strongly Cautioned',\n",
    "    'R': 'Restricted',\n",
    "    'NC17': 'Adults Only',\n",
    "    'NR': 'Not Rated'\n",
    "}\n",
    "df_movie_info['Rating'] = df_movie_info['Rating'].replace(rating_mapping)\n",
    "\n",
    "# Check the result\n",
    "\n",
    "df_movie_info['Rating'].unique()\n",
    "\n"
   ]
  },
  {
   "cell_type": "code",
   "execution_count": 118,
   "metadata": {},
   "outputs": [
    {
     "data": {
      "text/html": [
       "<div>\n",
       "<style scoped>\n",
       "    .dataframe tbody tr th:only-of-type {\n",
       "        vertical-align: middle;\n",
       "    }\n",
       "\n",
       "    .dataframe tbody tr th {\n",
       "        vertical-align: top;\n",
       "    }\n",
       "\n",
       "    .dataframe thead th {\n",
       "        text-align: right;\n",
       "    }\n",
       "</style>\n",
       "<table border=\"1\" class=\"dataframe\">\n",
       "  <thead>\n",
       "    <tr style=\"text-align: right;\">\n",
       "      <th></th>\n",
       "      <th>Id</th>\n",
       "      <th>Rating</th>\n",
       "      <th>Genre</th>\n",
       "      <th>Director</th>\n",
       "      <th>Runtime</th>\n",
       "    </tr>\n",
       "  </thead>\n",
       "  <tbody>\n",
       "    <tr>\n",
       "      <th>0</th>\n",
       "      <td>1</td>\n",
       "      <td>Restricted</td>\n",
       "      <td>Action and Adventure</td>\n",
       "      <td>William Friedkin</td>\n",
       "      <td>104</td>\n",
       "    </tr>\n",
       "    <tr>\n",
       "      <th>0</th>\n",
       "      <td>1</td>\n",
       "      <td>Restricted</td>\n",
       "      <td>Classics</td>\n",
       "      <td>William Friedkin</td>\n",
       "      <td>104</td>\n",
       "    </tr>\n",
       "    <tr>\n",
       "      <th>0</th>\n",
       "      <td>1</td>\n",
       "      <td>Restricted</td>\n",
       "      <td>Drama</td>\n",
       "      <td>William Friedkin</td>\n",
       "      <td>104</td>\n",
       "    </tr>\n",
       "    <tr>\n",
       "      <th>1</th>\n",
       "      <td>3</td>\n",
       "      <td>Restricted</td>\n",
       "      <td>Drama</td>\n",
       "      <td>David Cronenberg</td>\n",
       "      <td>108</td>\n",
       "    </tr>\n",
       "    <tr>\n",
       "      <th>1</th>\n",
       "      <td>3</td>\n",
       "      <td>Restricted</td>\n",
       "      <td>Science Fiction and Fantasy</td>\n",
       "      <td>David Cronenberg</td>\n",
       "      <td>108</td>\n",
       "    </tr>\n",
       "  </tbody>\n",
       "</table>\n",
       "</div>"
      ],
      "text/plain": [
       "   Id      Rating                        Genre          Director  Runtime\n",
       "0   1  Restricted         Action and Adventure  William Friedkin      104\n",
       "0   1  Restricted                     Classics  William Friedkin      104\n",
       "0   1  Restricted                        Drama  William Friedkin      104\n",
       "1   3  Restricted                        Drama  David Cronenberg      108\n",
       "1   3  Restricted  Science Fiction and Fantasy  David Cronenberg      108"
      ]
     },
     "execution_count": 118,
     "metadata": {},
     "output_type": "execute_result"
    }
   ],
   "source": [
    "# Checking the df shape after conversions\n",
    "\n",
    "df_movie_info.head()"
   ]
  },
  {
   "cell_type": "code",
   "execution_count": 119,
   "metadata": {},
   "outputs": [
    {
     "name": "stdout",
     "output_type": "stream",
     "text": [
      "<class 'pandas.core.frame.DataFrame'>\n",
      "Int64Index: 3525 entries, 0 to 1559\n",
      "Data columns (total 5 columns):\n",
      " #   Column    Non-Null Count  Dtype \n",
      "---  ------    --------------  ----- \n",
      " 0   Id        3525 non-null   int64 \n",
      " 1   Rating    3525 non-null   object\n",
      " 2   Genre     3525 non-null   object\n",
      " 3   Director  3525 non-null   object\n",
      " 4   Runtime   3525 non-null   int64 \n",
      "dtypes: int64(2), object(3)\n",
      "memory usage: 165.2+ KB\n"
     ]
    }
   ],
   "source": [
    "# Checking df info after conversions\n",
    "\n",
    "df_movie_info.info()"
   ]
  },
  {
   "cell_type": "markdown",
   "metadata": {},
   "source": [
    "### DF 3. reviews"
   ]
  },
  {
   "cell_type": "code",
   "execution_count": 120,
   "metadata": {},
   "outputs": [
    {
     "data": {
      "text/html": [
       "<div>\n",
       "<style scoped>\n",
       "    .dataframe tbody tr th:only-of-type {\n",
       "        vertical-align: middle;\n",
       "    }\n",
       "\n",
       "    .dataframe tbody tr th {\n",
       "        vertical-align: top;\n",
       "    }\n",
       "\n",
       "    .dataframe thead th {\n",
       "        text-align: right;\n",
       "    }\n",
       "</style>\n",
       "<table border=\"1\" class=\"dataframe\">\n",
       "  <thead>\n",
       "    <tr style=\"text-align: right;\">\n",
       "      <th></th>\n",
       "      <th>id</th>\n",
       "      <th>review</th>\n",
       "      <th>rating</th>\n",
       "      <th>fresh</th>\n",
       "      <th>critic</th>\n",
       "      <th>top_critic</th>\n",
       "      <th>publisher</th>\n",
       "      <th>date</th>\n",
       "    </tr>\n",
       "  </thead>\n",
       "  <tbody>\n",
       "    <tr>\n",
       "      <th>0</th>\n",
       "      <td>3</td>\n",
       "      <td>A distinctly gallows take on contemporary fina...</td>\n",
       "      <td>3/5</td>\n",
       "      <td>fresh</td>\n",
       "      <td>PJ Nabarro</td>\n",
       "      <td>0</td>\n",
       "      <td>Patrick Nabarro</td>\n",
       "      <td>November 10, 2018</td>\n",
       "    </tr>\n",
       "    <tr>\n",
       "      <th>1</th>\n",
       "      <td>3</td>\n",
       "      <td>It's an allegory in search of a meaning that n...</td>\n",
       "      <td>NaN</td>\n",
       "      <td>rotten</td>\n",
       "      <td>Annalee Newitz</td>\n",
       "      <td>0</td>\n",
       "      <td>io9.com</td>\n",
       "      <td>May 23, 2018</td>\n",
       "    </tr>\n",
       "    <tr>\n",
       "      <th>2</th>\n",
       "      <td>3</td>\n",
       "      <td>... life lived in a bubble in financial dealin...</td>\n",
       "      <td>NaN</td>\n",
       "      <td>fresh</td>\n",
       "      <td>Sean Axmaker</td>\n",
       "      <td>0</td>\n",
       "      <td>Stream on Demand</td>\n",
       "      <td>January 4, 2018</td>\n",
       "    </tr>\n",
       "    <tr>\n",
       "      <th>3</th>\n",
       "      <td>3</td>\n",
       "      <td>Continuing along a line introduced in last yea...</td>\n",
       "      <td>NaN</td>\n",
       "      <td>fresh</td>\n",
       "      <td>Daniel Kasman</td>\n",
       "      <td>0</td>\n",
       "      <td>MUBI</td>\n",
       "      <td>November 16, 2017</td>\n",
       "    </tr>\n",
       "    <tr>\n",
       "      <th>4</th>\n",
       "      <td>3</td>\n",
       "      <td>... a perverse twist on neorealism...</td>\n",
       "      <td>NaN</td>\n",
       "      <td>fresh</td>\n",
       "      <td>NaN</td>\n",
       "      <td>0</td>\n",
       "      <td>Cinema Scope</td>\n",
       "      <td>October 12, 2017</td>\n",
       "    </tr>\n",
       "  </tbody>\n",
       "</table>\n",
       "</div>"
      ],
      "text/plain": [
       "   id                                             review rating   fresh  \\\n",
       "0   3  A distinctly gallows take on contemporary fina...    3/5   fresh   \n",
       "1   3  It's an allegory in search of a meaning that n...    NaN  rotten   \n",
       "2   3  ... life lived in a bubble in financial dealin...    NaN   fresh   \n",
       "3   3  Continuing along a line introduced in last yea...    NaN   fresh   \n",
       "4   3             ... a perverse twist on neorealism...     NaN   fresh   \n",
       "\n",
       "           critic  top_critic         publisher               date  \n",
       "0      PJ Nabarro           0   Patrick Nabarro  November 10, 2018  \n",
       "1  Annalee Newitz           0           io9.com       May 23, 2018  \n",
       "2    Sean Axmaker           0  Stream on Demand    January 4, 2018  \n",
       "3   Daniel Kasman           0              MUBI  November 16, 2017  \n",
       "4             NaN           0      Cinema Scope   October 12, 2017  "
      ]
     },
     "execution_count": 120,
     "metadata": {},
     "output_type": "execute_result"
    }
   ],
   "source": [
    "# Checking the first 5 df_reviews\n",
    "\n",
    "df_reviews.head()"
   ]
  },
  {
   "cell_type": "code",
   "execution_count": 121,
   "metadata": {},
   "outputs": [
    {
     "name": "stdout",
     "output_type": "stream",
     "text": [
      "<class 'pandas.core.frame.DataFrame'>\n",
      "RangeIndex: 54432 entries, 0 to 54431\n",
      "Data columns (total 8 columns):\n",
      " #   Column      Non-Null Count  Dtype \n",
      "---  ------      --------------  ----- \n",
      " 0   id          54432 non-null  int64 \n",
      " 1   review      48869 non-null  object\n",
      " 2   rating      40915 non-null  object\n",
      " 3   fresh       54432 non-null  object\n",
      " 4   critic      51710 non-null  object\n",
      " 5   top_critic  54432 non-null  int64 \n",
      " 6   publisher   54123 non-null  object\n",
      " 7   date        54432 non-null  object\n",
      "dtypes: int64(2), object(6)\n",
      "memory usage: 3.3+ MB\n"
     ]
    }
   ],
   "source": [
    "# Checking the df contents\n",
    "\n",
    "df_reviews.info()"
   ]
  },
  {
   "cell_type": "code",
   "execution_count": 123,
   "metadata": {},
   "outputs": [
    {
     "data": {
      "text/plain": [
       "Index(['Id', 'Review', 'Rating', 'Fresh', 'Critic', 'Top_Critic', 'Publisher',\n",
       "       'Date'],\n",
       "      dtype='object')"
      ]
     },
     "execution_count": 123,
     "metadata": {},
     "output_type": "execute_result"
    }
   ],
   "source": [
    "# Convert the reviews column to title case\n",
    "\n",
    "df_reviews.columns = df_reviews.columns.str.title()\n",
    "df_reviews.columns"
   ]
  },
  {
   "cell_type": "code",
   "execution_count": 125,
   "metadata": {},
   "outputs": [],
   "source": [
    "# Identifying the relevant columns for the table we're working with\n",
    "\n",
    "Relevant_columns = ['Id', 'Rating', 'Critic', 'Top_Critic']\n",
    "df_reviews = df_reviews[Relevant_columns]"
   ]
  },
  {
   "cell_type": "code",
   "execution_count": 126,
   "metadata": {},
   "outputs": [
    {
     "name": "stdout",
     "output_type": "stream",
     "text": [
      "<class 'pandas.core.frame.DataFrame'>\n",
      "RangeIndex: 54432 entries, 0 to 54431\n",
      "Data columns (total 4 columns):\n",
      " #   Column      Non-Null Count  Dtype \n",
      "---  ------      --------------  ----- \n",
      " 0   Id          54432 non-null  int64 \n",
      " 1   Rating      40915 non-null  object\n",
      " 2   Critic      51710 non-null  object\n",
      " 3   Top_Critic  54432 non-null  int64 \n",
      "dtypes: int64(2), object(2)\n",
      "memory usage: 1.7+ MB\n"
     ]
    }
   ],
   "source": [
    "# Inspecting table data\n",
    "\n",
    "df_reviews.info()"
   ]
  },
  {
   "cell_type": "markdown",
   "metadata": {},
   "source": [
    "Since unknown critics will be bundled under one value, we will replace the missing values under the `Critic` column to Unknown so that the data is not skewed."
   ]
  },
  {
   "cell_type": "code",
   "execution_count": 128,
   "metadata": {},
   "outputs": [
    {
     "data": {
      "text/plain": [
       "array(['PJ Nabarro', 'Annalee Newitz', 'Sean Axmaker', ..., 'Raam Tarat',\n",
       "       'Jeremy Conrad', 'Bob Cannon'], dtype=object)"
      ]
     },
     "execution_count": 128,
     "metadata": {},
     "output_type": "execute_result"
    }
   ],
   "source": [
    "# Inspect for unique values in the 'Critic' column\n",
    "\n",
    "df_reviews['Critic'].unique()"
   ]
  },
  {
   "cell_type": "code",
   "execution_count": 127,
   "metadata": {},
   "outputs": [
    {
     "data": {
      "text/plain": [
       "0"
      ]
     },
     "execution_count": 127,
     "metadata": {},
     "output_type": "execute_result"
    }
   ],
   "source": [
    "# Replace NaN values with unknown \n",
    "\n",
    "df_reviews['Critic'] = df_reviews['Critic'].replace(np.nan, 'Unknown')\n",
    "df_reviews['Critic'].isnull().sum()"
   ]
  },
  {
   "cell_type": "code",
   "execution_count": 130,
   "metadata": {},
   "outputs": [
    {
     "data": {
      "text/plain": [
       "array([0, 1])"
      ]
     },
     "execution_count": 130,
     "metadata": {},
     "output_type": "execute_result"
    }
   ],
   "source": [
    "# Inspect for unique values in the Top_critic column\n",
    "\n",
    "df_reviews['Top_Critic'].unique()"
   ]
  },
  {
   "cell_type": "code",
   "execution_count": 132,
   "metadata": {},
   "outputs": [
    {
     "data": {
      "text/plain": [
       "array(['False', 'True'], dtype=object)"
      ]
     },
     "execution_count": 132,
     "metadata": {},
     "output_type": "execute_result"
    }
   ],
   "source": [
    "# Mapping the Top_Critic column to represent Boolean values\n",
    "\n",
    "df_reviews['Top_Critic'] = df_reviews['Top_Critic'].astype(str)\n",
    "Top_critic_mapping = {\n",
    "    '0': 'False',\n",
    "    '1': 'True',\n",
    "}\n",
    "df_reviews['Top_Critic'] = df_reviews['Top_Critic'].replace(Top_critic_mapping)\n",
    "\n",
    "# Check the result\n",
    "\n",
    "df_reviews['Top_Critic'].unique()\n",
    "\n"
   ]
  },
  {
   "cell_type": "code",
   "execution_count": 134,
   "metadata": {},
   "outputs": [
    {
     "data": {
      "text/html": [
       "<div>\n",
       "<style scoped>\n",
       "    .dataframe tbody tr th:only-of-type {\n",
       "        vertical-align: middle;\n",
       "    }\n",
       "\n",
       "    .dataframe tbody tr th {\n",
       "        vertical-align: top;\n",
       "    }\n",
       "\n",
       "    .dataframe thead th {\n",
       "        text-align: right;\n",
       "    }\n",
       "</style>\n",
       "<table border=\"1\" class=\"dataframe\">\n",
       "  <thead>\n",
       "    <tr style=\"text-align: right;\">\n",
       "      <th></th>\n",
       "      <th>Id</th>\n",
       "      <th>Rating</th>\n",
       "      <th>Critic</th>\n",
       "      <th>Top_Critic</th>\n",
       "    </tr>\n",
       "  </thead>\n",
       "  <tbody>\n",
       "    <tr>\n",
       "      <th>0</th>\n",
       "      <td>3</td>\n",
       "      <td>3/5</td>\n",
       "      <td>PJ Nabarro</td>\n",
       "      <td>False</td>\n",
       "    </tr>\n",
       "    <tr>\n",
       "      <th>1</th>\n",
       "      <td>3</td>\n",
       "      <td>NaN</td>\n",
       "      <td>Annalee Newitz</td>\n",
       "      <td>False</td>\n",
       "    </tr>\n",
       "    <tr>\n",
       "      <th>2</th>\n",
       "      <td>3</td>\n",
       "      <td>NaN</td>\n",
       "      <td>Sean Axmaker</td>\n",
       "      <td>False</td>\n",
       "    </tr>\n",
       "    <tr>\n",
       "      <th>3</th>\n",
       "      <td>3</td>\n",
       "      <td>NaN</td>\n",
       "      <td>Daniel Kasman</td>\n",
       "      <td>False</td>\n",
       "    </tr>\n",
       "    <tr>\n",
       "      <th>4</th>\n",
       "      <td>3</td>\n",
       "      <td>NaN</td>\n",
       "      <td>Unknown</td>\n",
       "      <td>False</td>\n",
       "    </tr>\n",
       "  </tbody>\n",
       "</table>\n",
       "</div>"
      ],
      "text/plain": [
       "   Id Rating          Critic Top_Critic\n",
       "0   3    3/5      PJ Nabarro      False\n",
       "1   3    NaN  Annalee Newitz      False\n",
       "2   3    NaN    Sean Axmaker      False\n",
       "3   3    NaN   Daniel Kasman      False\n",
       "4   3    NaN         Unknown      False"
      ]
     },
     "execution_count": 134,
     "metadata": {},
     "output_type": "execute_result"
    }
   ],
   "source": [
    "# Show the first 5 rows of the df_reviews dataframe\n",
    "\n",
    "df_reviews.head()"
   ]
  },
  {
   "cell_type": "code",
   "execution_count": 135,
   "metadata": {},
   "outputs": [
    {
     "data": {
      "text/plain": [
       "array(['3/5', nan, 'C', '2/5', 'B-', '2/4', 'B', '3/4', '4/5', '4/4',\n",
       "       '6/10', '1/4', '8', '2.5/4', '4/10', '2.0/5', '3/10', '7/10', 'A-',\n",
       "       '5/5', 'F', '3.5/4', 'D+', '1.5/4', '3.5/5', '8/10', 'B+', '9/10',\n",
       "       '2.5/5', '7.5/10', '5.5/10', 'C-', '1.5/5', '1/5', '5/10', 'C+',\n",
       "       '0/5', '6', '0.5/4', 'D', '3.1/5', '3/6', '4.5/5', '0/4', '2/10',\n",
       "       'D-', '7', '1/10', '3', 'A+', 'A', '4.0/4', '9.5/10', '2.5',\n",
       "       '2.1/2', '6.5/10', '3.7/5', '8.4/10', '9', '1', '7.2/10', '2.2/5',\n",
       "       '0.5/10', '5', '0', '2', '4.5', '7.7', '5.0/5', '8.5/10', '3.0/5',\n",
       "       '0.5/5', '1.5/10', '3.0/4', '2.3/10', '4.5/10', '4/6', '3.5',\n",
       "       '8.6/10', '6/8', '2.0/4', '2.7', '4.2/10', '5.8', '4', '7.1/10',\n",
       "       '5/4', 'N', '3.5/10', '5.8/10', 'R', '4.0/5', '0/10', '5.0/10',\n",
       "       '5.9/10', '2.4/5', '1.9/5', '4.9', '7.4/10', '1.5', '2.3/4',\n",
       "       '8.8/10', '4.0/10', '2.2', '3.8/10', '6.8/10', '7.3', '7.0/10',\n",
       "       '3.2', '4.2', '8.4', '5.5/5', '6.3/10', '7.6/10', '8.1/10',\n",
       "       '3.6/5', '2/6', '7.7/10', '1.8', '8.9/10', '8.9', '8.2/10',\n",
       "       '8.3/10', '2.6/6', '4.1/10', '2.5/10', 'F+', '6.0/10', '1.0/4',\n",
       "       '7.9/10', '8.7/10', '4.3/10', '9.6/10', '9.0/10', '4.0', '1.7',\n",
       "       '7.9', '6.7', '8.0/10', '9.2/10', '5.2', '5.9', '3.7', '4.7',\n",
       "       '6.2/10', '1/6', '8.2', '2.6/5', '3.4', '9.7', '3.3/5', '3.8/5',\n",
       "       '1/2', '7.4', '4.8', '1.6/5', '2/2', '1-5', '1.0', '4.3/5', '5/6',\n",
       "       '9.2', '2.7/5', '4.9/10', '3.0', '3.1', '7.8/10', 'F-', '2.3/5',\n",
       "       '3.0/10', '3/2', '7.8', '4.2/5', '9.0', '7.3/10', '4.4/5',\n",
       "       '6.9/10', '0/6', 'T', '6.2', '3.3', '9.8', '8.5', '1.0/5', '4.1',\n",
       "       '7.1', '3 1/2'], dtype=object)"
      ]
     },
     "execution_count": 135,
     "metadata": {},
     "output_type": "execute_result"
    }
   ],
   "source": [
    "# Checking the unique values in the `Rating` column\n",
    "\n",
    "df_reviews['Rating'].unique()"
   ]
  },
  {
   "cell_type": "code",
   "execution_count": 142,
   "metadata": {},
   "outputs": [],
   "source": [
    "# Standardizing the Rating values\n",
    "\n",
    "def convert_rating(value):\n",
    "    if pd.isna(value):\n",
    "        return np.nan\n",
    "    \n",
    "    letter_grades = {\n",
    "        'A+': 4.5, 'A': 4.0, 'A-': 3.7,\n",
    "        'B+': 3.3, 'B': 3.0, 'B-': 2.7,\n",
    "        'C+': 2.3, 'C': 2.0, 'C-': 1.7,\n",
    "        'D+': 1.3, 'D': 1.0, 'D-': 0.7,\n",
    "        'F': 0.0, 'F+': 0.0, 'R': 0.0, 'N': np.nan, 'C': np.nan\n",
    "    }\n",
    "    \n",
    "    value_str = str(value).strip()  \n",
    "    if ' ' in value_str:\n",
    "        parts = value_str.split()\n",
    "        whole = parts[0]\n",
    "        fraction = parts[1].split('/')\n",
    "        if len(fraction) == 2:\n",
    "            return float(whole) + float(fraction[0]) / float(fraction[1])\n",
    "        else:\n",
    "            return np.nan  \n",
    "    \n",
    "    if '/' in value_str:\n",
    "        fraction = value_str.split('/')\n",
    "        if len(fraction) == 2:\n",
    "            return float(fraction[0]) / float(fraction[1])\n",
    "        else:\n",
    "            return np.nan \n",
    "    \n",
    "    try:\n",
    "        return float(value_str)\n",
    "    except ValueError:\n",
    "        return letter_grades.get(value_str, np.nan)  \n",
    "\n",
    "df_reviews['Rating'] = df_reviews['Rating'].apply(convert_rating)"
   ]
  },
  {
   "cell_type": "code",
   "execution_count": 141,
   "metadata": {},
   "outputs": [
    {
     "data": {
      "text/plain": [
       "array([0.6       ,        nan, 0.4       , 2.7       , 0.5       ,\n",
       "       3.        , 0.75      , 0.8       , 1.        , 0.25      ,\n",
       "       8.        , 0.625     , 0.3       , 0.7       , 3.7       ,\n",
       "       0.        , 0.875     , 1.3       , 0.375     , 3.3       ,\n",
       "       0.9       , 0.55      , 1.7       , 0.2       , 2.3       ,\n",
       "       6.        , 0.125     , 0.62      , 7.        , 0.1       ,\n",
       "       4.5       , 4.        , 0.95      , 2.5       , 1.05      ,\n",
       "       0.65      , 0.74      , 0.84      , 9.        , 0.72      ,\n",
       "       0.44      , 0.05      , 5.        , 2.        , 7.7       ,\n",
       "       0.85      , 0.15      , 0.23      , 0.45      , 0.66666667,\n",
       "       3.5       , 0.86      , 0.42      , 5.8       , 0.71      ,\n",
       "       1.25      , 0.35      , 0.58      , 0.59      , 0.48      ,\n",
       "       0.38      , 4.9       , 1.5       , 0.575     , 0.88      ,\n",
       "       2.2       , 0.68      , 7.3       , 3.2       , 4.2       ,\n",
       "       8.4       , 1.1       , 0.63      , 0.76      , 0.81      ,\n",
       "       0.33333333, 0.77      , 1.8       , 0.89      , 8.9       ,\n",
       "       0.82      , 0.83      , 0.43333333, 0.41      , 0.79      ,\n",
       "       0.87      , 0.43      , 0.96      , 7.9       , 6.7       ,\n",
       "       0.92      , 5.2       , 5.9       , 4.7       , 0.16666667,\n",
       "       8.2       , 0.52      , 3.4       , 9.7       , 0.66      ,\n",
       "       7.4       , 4.8       , 0.32      , 0.83333333, 9.2       ,\n",
       "       0.54      , 0.49      , 3.1       , 0.78      , 0.46      ,\n",
       "       7.8       , 0.73      , 0.69      , 6.2       , 9.8       ,\n",
       "       8.5       , 4.1       , 7.1       ])"
      ]
     },
     "execution_count": 141,
     "metadata": {},
     "output_type": "execute_result"
    }
   ],
   "source": [
    "# Inspecting to confirm for standardized values\n",
    "\n",
    "df_reviews['Rating'].unique()"
   ]
  },
  {
   "cell_type": "code",
   "execution_count": 144,
   "metadata": {},
   "outputs": [
    {
     "data": {
      "text/plain": [
       "0.60    4813\n",
       "0.80    4188\n",
       "0.50    4079\n",
       "0.75    3664\n",
       "0.40    3425\n",
       "        ... \n",
       "0.73       1\n",
       "4.90       1\n",
       "3.10       1\n",
       "6.20       1\n",
       "7.90       1\n",
       "Name: Rating, Length: 117, dtype: int64"
      ]
     },
     "execution_count": 144,
     "metadata": {},
     "output_type": "execute_result"
    }
   ],
   "source": [
    "# Identifying the counts for each unique values\n",
    "\n",
    "df_reviews['Rating'].value_counts()"
   ]
  },
  {
   "cell_type": "code",
   "execution_count": 145,
   "metadata": {},
   "outputs": [
    {
     "data": {
      "text/plain": [
       "14301"
      ]
     },
     "execution_count": 145,
     "metadata": {},
     "output_type": "execute_result"
    }
   ],
   "source": [
    "# Identifying the count of the NaN values\n",
    "\n",
    "df_reviews['Rating'].isna().sum()"
   ]
  },
  {
   "cell_type": "code",
   "execution_count": 147,
   "metadata": {},
   "outputs": [
    {
     "name": "stdout",
     "output_type": "stream",
     "text": [
      "<class 'pandas.core.frame.DataFrame'>\n",
      "RangeIndex: 54432 entries, 0 to 54431\n",
      "Data columns (total 4 columns):\n",
      " #   Column      Non-Null Count  Dtype  \n",
      "---  ------      --------------  -----  \n",
      " 0   Id          54432 non-null  int64  \n",
      " 1   Rating      54432 non-null  float64\n",
      " 2   Critic      54432 non-null  object \n",
      " 3   Top_Critic  54432 non-null  object \n",
      "dtypes: float64(1), int64(1), object(2)\n",
      "memory usage: 1.7+ MB\n"
     ]
    }
   ],
   "source": [
    "# Dealing with the NaN values by replacing with 0 to ensure the missing values are in numeric format\n",
    "\n",
    "df_reviews['Rating'] = df_reviews['Rating'].fillna(0)\n",
    "\n",
    "df_reviews.info()"
   ]
  },
  {
   "cell_type": "markdown",
   "metadata": {},
   "source": [
    "## Outputting the cleaned dataframes"
   ]
  },
  {
   "cell_type": "code",
   "execution_count": 48,
   "metadata": {},
   "outputs": [
    {
     "name": "stdout",
     "output_type": "stream",
     "text": [
      "The cleaned DataFrame df_movie_info has been successfully saved to 'cleaned_movie_info.csv'.\n"
     ]
    }
   ],
   "source": [
    "df_movie_info_cleaned = df_movie_info.to_csv('cleaned_movie_info.csv')\n",
    "\n",
    "# Print a message indicating the output\n",
    "print(\"The cleaned DataFrame df_movie_info has been successfully saved to 'cleaned_movie_info.csv'.\")"
   ]
  },
  {
   "cell_type": "code",
   "execution_count": 49,
   "metadata": {},
   "outputs": [
    {
     "name": "stdout",
     "output_type": "stream",
     "text": [
      "The cleaned DataFrame df_movie_budgets has been successfully saved to 'cleaned_movie_budgets.csv'.\n"
     ]
    }
   ],
   "source": [
    "df_movie_budgets_cleaned = df_movie_budgets.to_csv('cleaned_movie_budgets.csv')\n",
    "\n",
    "# Print a message indicating the output\n",
    "print(\"The cleaned DataFrame df_movie_budgets has been successfully saved to 'cleaned_movie_budgets.csv'.\")"
   ]
  },
  {
   "cell_type": "code",
   "execution_count": 50,
   "metadata": {},
   "outputs": [
    {
     "name": "stdout",
     "output_type": "stream",
     "text": [
      "The cleaned DataFrame df_reviews has been successfully saved to 'cleaned_reviews.csv'.\n"
     ]
    }
   ],
   "source": [
    "df_reviews_cleaned = df_reviews.to_csv('cleaned_reviews.csv')\n",
    "\n",
    "# Print a message indicating the output\n",
    "print(\"The cleaned DataFrame df_reviews has been successfully saved to 'cleaned_reviews.csv'.\")"
   ]
  },
  {
   "cell_type": "markdown",
   "metadata": {},
   "source": [
    "## Loading the cleaned datasets"
   ]
  },
  {
   "cell_type": "code",
   "execution_count": 148,
   "metadata": {},
   "outputs": [
    {
     "data": {
      "text/html": [
       "<div>\n",
       "<style scoped>\n",
       "    .dataframe tbody tr th:only-of-type {\n",
       "        vertical-align: middle;\n",
       "    }\n",
       "\n",
       "    .dataframe tbody tr th {\n",
       "        vertical-align: top;\n",
       "    }\n",
       "\n",
       "    .dataframe thead th {\n",
       "        text-align: right;\n",
       "    }\n",
       "</style>\n",
       "<table border=\"1\" class=\"dataframe\">\n",
       "  <thead>\n",
       "    <tr style=\"text-align: right;\">\n",
       "      <th></th>\n",
       "      <th>Id</th>\n",
       "      <th>Rating</th>\n",
       "      <th>Genre</th>\n",
       "      <th>Director</th>\n",
       "      <th>Runtime</th>\n",
       "    </tr>\n",
       "  </thead>\n",
       "  <tbody>\n",
       "    <tr>\n",
       "      <th>0</th>\n",
       "      <td>1</td>\n",
       "      <td>Restricted</td>\n",
       "      <td>Action and Adventure</td>\n",
       "      <td>William Friedkin</td>\n",
       "      <td>104</td>\n",
       "    </tr>\n",
       "    <tr>\n",
       "      <th>0</th>\n",
       "      <td>1</td>\n",
       "      <td>Restricted</td>\n",
       "      <td>Classics</td>\n",
       "      <td>William Friedkin</td>\n",
       "      <td>104</td>\n",
       "    </tr>\n",
       "    <tr>\n",
       "      <th>0</th>\n",
       "      <td>1</td>\n",
       "      <td>Restricted</td>\n",
       "      <td>Drama</td>\n",
       "      <td>William Friedkin</td>\n",
       "      <td>104</td>\n",
       "    </tr>\n",
       "    <tr>\n",
       "      <th>1</th>\n",
       "      <td>3</td>\n",
       "      <td>Restricted</td>\n",
       "      <td>Drama</td>\n",
       "      <td>David Cronenberg</td>\n",
       "      <td>108</td>\n",
       "    </tr>\n",
       "    <tr>\n",
       "      <th>1</th>\n",
       "      <td>3</td>\n",
       "      <td>Restricted</td>\n",
       "      <td>Science Fiction and Fantasy</td>\n",
       "      <td>David Cronenberg</td>\n",
       "      <td>108</td>\n",
       "    </tr>\n",
       "  </tbody>\n",
       "</table>\n",
       "</div>"
      ],
      "text/plain": [
       "   Id      Rating                        Genre          Director  Runtime\n",
       "0   1  Restricted         Action and Adventure  William Friedkin      104\n",
       "0   1  Restricted                     Classics  William Friedkin      104\n",
       "0   1  Restricted                        Drama  William Friedkin      104\n",
       "1   3  Restricted                        Drama  David Cronenberg      108\n",
       "1   3  Restricted  Science Fiction and Fantasy  David Cronenberg      108"
      ]
     },
     "execution_count": 148,
     "metadata": {},
     "output_type": "execute_result"
    }
   ],
   "source": [
    "df_movie_info_cleaned = pd.read_csv('cleaned_movie_info.csv', index_col= 0)\n",
    "df_movie_info_cleaned.head()"
   ]
  },
  {
   "cell_type": "code",
   "execution_count": 149,
   "metadata": {},
   "outputs": [
    {
     "data": {
      "text/html": [
       "<div>\n",
       "<style scoped>\n",
       "    .dataframe tbody tr th:only-of-type {\n",
       "        vertical-align: middle;\n",
       "    }\n",
       "\n",
       "    .dataframe tbody tr th {\n",
       "        vertical-align: top;\n",
       "    }\n",
       "\n",
       "    .dataframe thead th {\n",
       "        text-align: right;\n",
       "    }\n",
       "</style>\n",
       "<table border=\"1\" class=\"dataframe\">\n",
       "  <thead>\n",
       "    <tr style=\"text-align: right;\">\n",
       "      <th></th>\n",
       "      <th>Id</th>\n",
       "      <th>Release_Date</th>\n",
       "      <th>Movie</th>\n",
       "      <th>Production_Budget</th>\n",
       "      <th>Domestic_Gross</th>\n",
       "      <th>Worldwide_Gross</th>\n",
       "      <th>Year</th>\n",
       "      <th>0</th>\n",
       "    </tr>\n",
       "  </thead>\n",
       "  <tbody>\n",
       "    <tr>\n",
       "      <th>0</th>\n",
       "      <td>100</td>\n",
       "      <td>2019-01-18</td>\n",
       "      <td>Glass</td>\n",
       "      <td>20000000.0</td>\n",
       "      <td>111035005.0</td>\n",
       "      <td>245303505.0</td>\n",
       "      <td>2019</td>\n",
       "      <td>1</td>\n",
       "    </tr>\n",
       "    <tr>\n",
       "      <th>1</th>\n",
       "      <td>34</td>\n",
       "      <td>1984-05-23</td>\n",
       "      <td>Indiana Jones and the Temple of Doom</td>\n",
       "      <td>28000000.0</td>\n",
       "      <td>179880271.0</td>\n",
       "      <td>333080271.0</td>\n",
       "      <td>1984</td>\n",
       "      <td>1</td>\n",
       "    </tr>\n",
       "    <tr>\n",
       "      <th>2</th>\n",
       "      <td>34</td>\n",
       "      <td>1991-07-01</td>\n",
       "      <td>The Last Waltz</td>\n",
       "      <td>35000.0</td>\n",
       "      <td>321952.0</td>\n",
       "      <td>322563.0</td>\n",
       "      <td>1991</td>\n",
       "      <td>1</td>\n",
       "    </tr>\n",
       "    <tr>\n",
       "      <th>3</th>\n",
       "      <td>34</td>\n",
       "      <td>1995-12-29</td>\n",
       "      <td>Restoration</td>\n",
       "      <td>18000000.0</td>\n",
       "      <td>4100000.0</td>\n",
       "      <td>4100000.0</td>\n",
       "      <td>1995</td>\n",
       "      <td>1</td>\n",
       "    </tr>\n",
       "    <tr>\n",
       "      <th>4</th>\n",
       "      <td>34</td>\n",
       "      <td>1996-10-11</td>\n",
       "      <td>Trees Lounge</td>\n",
       "      <td>1300000.0</td>\n",
       "      <td>749741.0</td>\n",
       "      <td>749741.0</td>\n",
       "      <td>1996</td>\n",
       "      <td>1</td>\n",
       "    </tr>\n",
       "  </tbody>\n",
       "</table>\n",
       "</div>"
      ],
      "text/plain": [
       "    Id Release_Date                                 Movie  Production_Budget  \\\n",
       "0  100   2019-01-18                                 Glass         20000000.0   \n",
       "1   34   1984-05-23  Indiana Jones and the Temple of Doom         28000000.0   \n",
       "2   34   1991-07-01                        The Last Waltz            35000.0   \n",
       "3   34   1995-12-29                           Restoration         18000000.0   \n",
       "4   34   1996-10-11                          Trees Lounge          1300000.0   \n",
       "\n",
       "   Domestic_Gross  Worldwide_Gross  Year  0  \n",
       "0     111035005.0      245303505.0  2019  1  \n",
       "1     179880271.0      333080271.0  1984  1  \n",
       "2        321952.0         322563.0  1991  1  \n",
       "3       4100000.0        4100000.0  1995  1  \n",
       "4        749741.0         749741.0  1996  1  "
      ]
     },
     "execution_count": 149,
     "metadata": {},
     "output_type": "execute_result"
    }
   ],
   "source": [
    "df_movie_budgets_cleaned = pd.read_csv('cleaned_movie_budgets.csv')\n",
    "df_movie_budgets_cleaned.head()"
   ]
  },
  {
   "cell_type": "code",
   "execution_count": 150,
   "metadata": {},
   "outputs": [
    {
     "data": {
      "text/html": [
       "<div>\n",
       "<style scoped>\n",
       "    .dataframe tbody tr th:only-of-type {\n",
       "        vertical-align: middle;\n",
       "    }\n",
       "\n",
       "    .dataframe tbody tr th {\n",
       "        vertical-align: top;\n",
       "    }\n",
       "\n",
       "    .dataframe thead th {\n",
       "        text-align: right;\n",
       "    }\n",
       "</style>\n",
       "<table border=\"1\" class=\"dataframe\">\n",
       "  <thead>\n",
       "    <tr style=\"text-align: right;\">\n",
       "      <th></th>\n",
       "      <th>Id</th>\n",
       "      <th>Rating</th>\n",
       "      <th>Critic</th>\n",
       "      <th>Top_Critic</th>\n",
       "    </tr>\n",
       "  </thead>\n",
       "  <tbody>\n",
       "    <tr>\n",
       "      <th>0</th>\n",
       "      <td>3</td>\n",
       "      <td>0.6</td>\n",
       "      <td>PJ Nabarro</td>\n",
       "      <td>False</td>\n",
       "    </tr>\n",
       "    <tr>\n",
       "      <th>1</th>\n",
       "      <td>3</td>\n",
       "      <td>0.0</td>\n",
       "      <td>Annalee Newitz</td>\n",
       "      <td>False</td>\n",
       "    </tr>\n",
       "    <tr>\n",
       "      <th>2</th>\n",
       "      <td>3</td>\n",
       "      <td>0.0</td>\n",
       "      <td>Sean Axmaker</td>\n",
       "      <td>False</td>\n",
       "    </tr>\n",
       "    <tr>\n",
       "      <th>3</th>\n",
       "      <td>3</td>\n",
       "      <td>0.0</td>\n",
       "      <td>Daniel Kasman</td>\n",
       "      <td>False</td>\n",
       "    </tr>\n",
       "    <tr>\n",
       "      <th>4</th>\n",
       "      <td>3</td>\n",
       "      <td>0.0</td>\n",
       "      <td>Unknown</td>\n",
       "      <td>False</td>\n",
       "    </tr>\n",
       "  </tbody>\n",
       "</table>\n",
       "</div>"
      ],
      "text/plain": [
       "   Id  Rating          Critic  Top_Critic\n",
       "0   3     0.6      PJ Nabarro       False\n",
       "1   3     0.0  Annalee Newitz       False\n",
       "2   3     0.0    Sean Axmaker       False\n",
       "3   3     0.0   Daniel Kasman       False\n",
       "4   3     0.0         Unknown       False"
      ]
     },
     "execution_count": 150,
     "metadata": {},
     "output_type": "execute_result"
    }
   ],
   "source": [
    "df_reviews_cleaned = pd.read_csv('cleaned_reviews.csv', index_col= 0)\n",
    "df_reviews_cleaned.head()"
   ]
  },
  {
   "cell_type": "markdown",
   "metadata": {},
   "source": [
    "## 4. Exploratory Data Analysis"
   ]
  },
  {
   "cell_type": "markdown",
   "metadata": {},
   "source": [
    "## *Objective 1: What is the relationship between production budgets and profitability in terms of both Domestic Gross Earnings and Worldwide Gross Earnings?*"
   ]
  },
  {
   "cell_type": "code",
   "execution_count": 54,
   "metadata": {},
   "outputs": [
    {
     "name": "stdout",
     "output_type": "stream",
     "text": [
      "Budget Category Analysis:\n",
      "  Budget_Category    Avg_Profit  Avg_Profit_Margin  Count\n",
      "0             Low  3.001826e+07         604.301186   2171\n",
      "1          Medium  6.468654e+07          91.114039    323\n",
      "2            High  1.040239e+08          69.770687    160\n",
      "3       Very High  1.652010e+08          62.062921     23\n"
     ]
    },
    {
     "data": {
      "image/png": "[encoded data removed]",
      "text/plain": [
       "<Figure size 1008x432 with 2 Axes>"
      ]
     },
     "metadata": {
      "needs_background": "light"
     },
     "output_type": "display_data"
    }
   ],
   "source": [
    "# Calculate Domestic Profit and Domestic Profit Margin\n",
    "\n",
    "df_movie_budgets_cleaned['Profit'] = df_movie_budgets_cleaned['Domestic_Gross'] - df_movie_budgets_cleaned['Production_Budget']\n",
    "df_movie_budgets_cleaned = df_movie_budgets_cleaned[df_movie_budgets_cleaned['Profit'] > 0]  \n",
    "\n",
    "df_movie_budgets_cleaned['Profit_Margin'] = (df_movie_budgets_cleaned['Profit'] / df_movie_budgets_cleaned['Production_Budget']) * 100\n",
    "\n",
    "# Categorize movies by budget range (adjust ranges as needed)\n",
    "\n",
    "budget_bins = [0, 50000000, 100000000, 200000000, float('inf')]\n",
    "budget_labels = ['Low', 'Medium', 'High', 'Very High']\n",
    "df_movie_budgets_cleaned['Budget_Category'] = pd.cut(df_movie_budgets_cleaned['Production_Budget'], bins=budget_bins, labels=budget_labels)\n",
    "\n",
    "# Group by Budget Category and calculate mean Profit and Profit Margin\n",
    "\n",
    "budget_analysis = df_movie_budgets_cleaned.groupby('Budget_Category').agg(\n",
    "    Avg_Profit=('Profit', 'mean'),\n",
    "    Avg_Profit_Margin=('Profit_Margin', 'mean'),\n",
    "    Count=('Profit', 'count')\n",
    ").reset_index()\n",
    "\n",
    "print(\"Budget Category Analysis:\")\n",
    "print(budget_analysis)\n",
    "\n",
    "# Apply square root transformation to Profit Margin for better visualization\n",
    "\n",
    "df_movie_budgets_cleaned['Profit_Margin_Scaled'] = np.sqrt(df_movie_budgets_cleaned['Profit_Margin'])\n",
    "\n",
    "# Set up the figure for side-by-side scatter plots with regression lines\n",
    "fig, (ax1, ax2) = plt.subplots(1, 2, figsize=(14, 6))\n",
    "\n",
    "# Scatter plot with line of best fit for Domestic Profit vs. Production Budget\n",
    "sns.scatterplot(data=df_movie_budgets_cleaned, x='Production_Budget', y='Profit', hue='Budget_Category', ax=ax1)\n",
    "sns.regplot(data=df_movie_budgets_cleaned, x='Production_Budget', y='Profit', scatter=False, ax=ax1, color='gray', line_kws={\"linestyle\": \"--\"})\n",
    "ax1.set_title(\"Production Budget vs. Profit (Domestic Gross)\")\n",
    "ax1.set_xlabel(\"Production Budget ($)\")\n",
    "ax1.set_ylabel(\"Profit ($)\")\n",
    "ax1.legend(title='Budget Category')\n",
    "\n",
    "# Scatter plot with line of best fit for Scaled Profit Margin vs. Production Budget\n",
    "sns.scatterplot(data=df_movie_budgets_cleaned, x='Production_Budget', y='Profit_Margin_Scaled', hue='Budget_Category', ax=ax2)\n",
    "sns.regplot(data=df_movie_budgets_cleaned, x='Production_Budget', y='Profit_Margin_Scaled', scatter=False, ax=ax2, color='gray', line_kws={\"linestyle\": \"--\"})\n",
    "ax2.set_title(\"Production Budget vs. Scaled Profit Margin (Domestic Gross)\")\n",
    "ax2.set_xlabel(\"Production Budget ($)\")\n",
    "ax2.set_ylabel(\"Scaled Profit Margin (sqrt-transformed)\")\n",
    "ax2.legend(title='Budget Category')\n",
    "\n",
    "# Display the plots\n",
    "plt.tight_layout()\n",
    "plt.show()\n"
   ]
  },
  {
   "cell_type": "markdown",
   "metadata": {},
   "source": [
    "### Observations and insights\n",
    "\n",
    "In the plot to the left, the line of best fit shows a slight positive trend, indicating that higher budgets tend to yield higher profits, but the correlation is weak. Lower-budget movies have a broad range of profits, with many achieving significant gains, while higher-budget movies tend to cluster around moderate profit levels. This suggests that high production costs don’t always guarantee high profits.\n",
    "\n",
    "In the plot to the right, the line of best fit in this plot shows a clear downward trend, indicating that scaled profit margins decrease as budgets increase. Lower-budget movies tend to have much higher scaled profit margins, suggesting they’re more efficient at turning investments into profits. In contrast, larger budgets generally correlate with lower returns on investment, highlighting the diminishing returns of high-budget productions.\n",
    "\n"
   ]
  },
  {
   "cell_type": "code",
   "execution_count": 156,
   "metadata": {},
   "outputs": [
    {
     "name": "stdout",
     "output_type": "stream",
     "text": [
      "Budget Category Analysis:\n",
      "  Budget_Category    Avg_Profit  Avg_Profit_Margin  Count\n",
      "0             Low  5.374696e+07         770.424238   2775\n",
      "1          Medium  1.614558e+08         223.758056    544\n",
      "2            High  3.478978e+08         235.957963    299\n",
      "3       Very High  6.797990e+08         257.864564     39\n"
     ]
    },
    {
     "data": {
      "image/png": "[encoded data removed]",
      "text/plain": [
       "<Figure size 1008x432 with 2 Axes>"
      ]
     },
     "metadata": {
      "needs_background": "light"
     },
     "output_type": "display_data"
    }
   ],
   "source": [
    "# Calculate Worldwide Profit and Worldwide Profit Margin\n",
    "\n",
    "df_movie_budgets_cleaned['Profit'] = df_movie_budgets_cleaned['Worldwide_Gross'] - df_movie_budgets_cleaned['Production_Budget']\n",
    "df_movie_budgets_cleaned = df_movie_budgets_cleaned[df_movie_budgets_cleaned['Profit'] > 0]\n",
    "\n",
    "df_movie_budgets_cleaned['Profit_Margin'] = (df_movie_budgets_cleaned['Profit'] / df_movie_budgets_cleaned['Production_Budget']) * 100\n",
    "\n",
    "# Categorize movies by budget range (adjust ranges as needed)\n",
    "\n",
    "budget_bins = [0, 50000000, 100000000, 200000000, float('inf')]\n",
    "budget_labels = ['Low', 'Medium', 'High', 'Very High']\n",
    "df_movie_budgets_cleaned['Budget_Category'] = pd.cut(df_movie_budgets_cleaned['Production_Budget'], bins=budget_bins, labels=budget_labels)\n",
    "\n",
    "# Group by Budget Category and calculate mean Profit and Profit Margin\n",
    "\n",
    "budget_analysis = df_movie_budgets_cleaned.groupby('Budget_Category').agg(\n",
    "    Avg_Profit=('Profit', 'mean'),\n",
    "    Avg_Profit_Margin=('Profit_Margin', 'mean'),\n",
    "    Count=('Profit', 'count')\n",
    ").reset_index()\n",
    "\n",
    "print(\"Budget Category Analysis:\")\n",
    "print(budget_analysis)\n",
    "\n",
    "# Apply square root transformation to Profit Margin for better visualization\n",
    "\n",
    "df_movie_budgets_cleaned['Profit_Margin_Scaled'] = np.sqrt(df_movie_budgets_cleaned['Profit_Margin'])\n",
    "\n",
    "# Set up the figure for side-by-side scatter plots with regression lines\n",
    "\n",
    "fig, (ax1, ax2) = plt.subplots(1, 2, figsize=(14, 6))\n",
    "\n",
    "# Scatter plot with line of best fit for Worldwide Profit vs. Production Budget\n",
    "\n",
    "sns.scatterplot(data=df_movie_budgets_cleaned, x='Production_Budget', y='Profit', hue='Budget_Category', ax=ax1)\n",
    "sns.regplot(data=df_movie_budgets_cleaned, x='Production_Budget', y='Profit', scatter=False, ax=ax1, color='gray', line_kws={\"linestyle\": \"--\"})\n",
    "ax1.set_title(\"Production Budget vs. Profit (Worldwide Gross)\")\n",
    "ax1.set_xlabel(\"Production Budget in billions ($)\")\n",
    "ax1.set_ylabel(\"Profit in billions ($)\")\n",
    "ax1.legend(title='Budget Category')\n",
    "\n",
    "# Scatter plot with line of best fit for Scaled Profit Margin vs. Production Budget\n",
    "\n",
    "sns.scatterplot(data=df_movie_budgets_cleaned, x='Production_Budget', y='Profit_Margin_Scaled', hue='Budget_Category', ax=ax2)\n",
    "sns.regplot(data=df_movie_budgets_cleaned, x='Production_Budget', y='Profit_Margin_Scaled', scatter=False, ax=ax2, color='gray', line_kws={\"linestyle\": \"--\"})\n",
    "ax2.set_title(\"Production Budget vs. Scaled Profit Margin (Worldwide Gross)\")\n",
    "ax2.set_xlabel(\"Production Budget in billions ($)\")\n",
    "ax2.set_ylabel(\"Scaled Profit Margin (sqrt-transformed)\")\n",
    "ax2.legend(title='Budget Category')\n",
    "\n",
    "# Display the plots\n",
    "\n",
    "plt.tight_layout()\n",
    "plt.show()\n",
    "\n",
    "\n"
   ]
  },
  {
   "cell_type": "markdown",
   "metadata": {},
   "source": [
    "### Observations and Insights\n",
    "\n",
    "On the left-side plot, the line of best fit shows a clear positive trend, indicating that higher production budgets are generally associated with higher worldwide profits. This trend is more noticeable than in the Domestic Gross plot, suggesting that large-budget films perform better globally.\n",
    "\n",
    "On the right-side plot, the line of best fit here shows a strong downward trend, indicating that scaled profit margins decrease significantly as production budgets increase. Lower-budget films achieve the highest scaled profit margins, while higher-budget films, despite their larger profits, show much lower efficiency in generating returns relative to their budgets.\n",
    "This implies that although high-budget films may earn large absolute profits globally, they’re less efficient in terms of profit margin compared to smaller\n"
   ]
  },
  {
   "cell_type": "markdown",
   "metadata": {},
   "source": [
    "### Recommendations based on Objective 1\n",
    "\n",
    "Whether a domestic or worldwide project, focusing on Low and Medium Budget films while remaining open to larger projects can optimize profitability, and success will depend on careful planning, strategic marketing, and understanding audience preferences.\n",
    "\n",
    "Lower-budget movies have a wide range of profits, but their maximum profit values are lower than those of high-budget films which sometimes generate profits exceeding $1.5 billion.\n",
    "This suggests that higher production budgets may be advantageous for reaching broader audiences and generating significant worldwide profits."
   ]
  },
  {
   "cell_type": "markdown",
   "metadata": {},
   "source": [
    "### *Objective 2: Which Genres Are Most Profitable, and What Key Trends Exist in Box Office Performance?*\n",
    "\n",
    "This analysis focuses on both Domestic Gross and Foreign Gross to evaluate genre profitability and identify which types of movies are most likely to drive significant revenue. Understanding these patterns can help guide the studio's genre focus and investment strategy.\n"
   ]
  },
  {
   "cell_type": "code",
   "execution_count": 155,
   "metadata": {},
   "outputs": [
    {
     "name": "stdout",
     "output_type": "stream",
     "text": [
      "Top 10 Genres by Average Profit:\n",
      "                          Genre    Avg_Profit  Avg_Profit_Margin  Count\n",
      "8   Musical and Performing Arts  1.178249e+08        1143.513966    290\n",
      "2                      Classics  1.160361e+08         581.858924    372\n",
      "11  Science Fiction and Fantasy  1.126134e+08         634.458939    208\n",
      "6                        Horror  1.114438e+08         464.792817    228\n",
      "7               Kids and Family  1.071885e+08         581.698844    143\n",
      "9          Mystery and Suspense  1.044890e+08         529.315181    607\n",
      "3                        Comedy  1.018017e+08         755.730710   1132\n",
      "1   Art House and International  1.016357e+08         599.588987    255\n",
      "10                      Romance  1.013570e+08         753.446945    444\n",
      "0          Action and Adventure  1.012781e+08         529.142676    686\n",
      "\n",
      "Top 10 Genres by Average Profit Margin:\n",
      "                          Genre    Avg_Profit  Avg_Profit_Margin  Count\n",
      "8   Musical and Performing Arts  1.178249e+08        1143.513966    290\n",
      "3                        Comedy  1.018017e+08         755.730710   1132\n",
      "10                      Romance  1.013570e+08         753.446945    444\n",
      "11  Science Fiction and Fantasy  1.126134e+08         634.458939    208\n",
      "1   Art House and International  1.016357e+08         599.588987    255\n",
      "5                         Drama  1.002440e+08         588.687058   1728\n",
      "2                      Classics  1.160361e+08         581.858924    372\n",
      "7               Kids and Family  1.071885e+08         581.698844    143\n",
      "9          Mystery and Suspense  1.044890e+08         529.315181    607\n",
      "0          Action and Adventure  1.012781e+08         529.142676    686\n"
     ]
    },
    {
     "data": {
      "image/png": "[encoded data removed]",
      "text/plain": [
       "<Figure size 1152x432 with 2 Axes>"
      ]
     },
     "metadata": {
      "needs_background": "light"
     },
     "output_type": "display_data"
    }
   ],
   "source": [
    "# Merge DataFrames on 'Id' column\n",
    "\n",
    "merged_df = pd.merge(df_movie_info_cleaned, df_movie_budgets_cleaned, on='Id', how='inner')\n",
    "\n",
    "# Analyze Trends and Profitability by Genre\n",
    "# Calculate Profit and Profit Margin\n",
    "\n",
    "merged_df['Profit'] = merged_df['Worldwide_Gross'] - merged_df['Production_Budget']\n",
    "merged_df['Profit_Margin'] = (merged_df['Profit'] / merged_df['Production_Budget']) * 100\n",
    "\n",
    "# Group by Genre to calculate average profit and profit margin\n",
    "\n",
    "genre_profitability = merged_df.groupby('Genre').agg(\n",
    "    Avg_Profit=('Profit', 'mean'),\n",
    "    Avg_Profit_Margin=('Profit_Margin', 'mean'),\n",
    "    Count=('Id', 'count')\n",
    ").reset_index()\n",
    "\n",
    "# Get Top 10 Genres by Average Profit\n",
    "\n",
    "top_10_profit = genre_profitability.nlargest(10, 'Avg_Profit').sort_values(by='Avg_Profit', ascending=False)\n",
    "\n",
    "# Get Top 10 Genres by Average Profit Margin\n",
    "\n",
    "top_10_margin = genre_profitability.nlargest(10, 'Avg_Profit_Margin').sort_values(by='Avg_Profit_Margin', ascending=False)\n",
    "\n",
    "# Display results\n",
    "print(\"Top 10 Genres by Average Profit:\")\n",
    "print(top_10_profit)\n",
    "\n",
    "print(\"\\nTop 10 Genres by Average Profit Margin:\")\n",
    "print(top_10_margin)\n",
    "\n",
    "# Visualization - Side by Side Bar Plots for Average Profit and Average Profit Margin\n",
    "\n",
    "fig, axes = plt.subplots(1, 2, figsize=(16, 6))\n",
    "\n",
    "# Bar Plot for Average Profit by Top 10 Genres\n",
    "\n",
    "sns.barplot(data=top_10_profit, x='Genre', y='Avg_Profit', palette='viridis', ax=axes[0])\n",
    "axes[0].set_title('Top 10 Genres by Average Profit')\n",
    "axes[0].set_xlabel('Genre')\n",
    "axes[0].set_ylabel('Average Profit ($)')\n",
    "axes[0].tick_params(axis='x', rotation=45)\n",
    "\n",
    "# Bar Plot for Average Profit Margin by Top 10 Genres\n",
    "\n",
    "sns.barplot(data=top_10_margin, x='Genre', y='Avg_Profit_Margin', palette='plasma', ax=axes[1])\n",
    "axes[1].set_title('Top 10 Genres by Average Profit Margin')\n",
    "axes[1].set_xlabel('Genre')\n",
    "axes[1].set_ylabel('Average Profit Margin (%)')\n",
    "axes[1].tick_params(axis='x', rotation=45)\n",
    "\n",
    "plt.tight_layout()\n",
    "plt.show()\n"
   ]
  },
  {
   "cell_type": "markdown",
   "metadata": {},
   "source": [
    "## Observations and Insights from Box Office Analysis\n",
    "\n",
    "Genres with high profit margins such as Musical and Performing Arts, Romance, and Comedy represent strong investment opportunities due to their efficient returns. Although they may not always generate the highest absolute profits, their impressive margins (e.g., 1500.82% for Musical and Performing Arts, over 700% for Romance and Comedy) make them ideal for profitable, lower-risk investments. Additionally, Classics, Horror, and Science Fiction and Fantasy genres show consistently high average pro\n",
    "fits (around $130-135 million), making them strong candidates for profit-focused projects. In contrast, lower-margin genres like Action and Adventure may involve higher financial risk, suggesting they require careful consideration before large investments.\n"
   ]
  },
  {
   "cell_type": "markdown",
   "metadata": {},
   "source": [
    "### Recommendations\n",
    "\n",
    "Based on these insights, here are a few strategic recommendations for investment in movie genres:\n",
    "\n",
    "- Prioritize High-Margin Genres: Focus on producing films in Musical and Performing Arts, Romance, and Comedy genres. These categories demonstrate high profit margins, offering significant returns relative to their budgets. This strategy minimizes risk while maximizing profitability.\n",
    "- Explore Strong Performers for Balanced Returns: Consider investing in Classics, Horror, and Science Fiction and Fantasy. These genres yield solid average profits, providing a balance between substantial absolute returns and manageable production costs. They can serve as reliable sources of revenue without the risk levels seen in blockbuster-heavy genres.\n",
    "- Exercise Caution with Action and Adventure: Although Action and Adventure genres might have high box office appeal, they generally yield lower profit margins relative to their high production costs. For these categories, consider a selective approach, investing in projects with strong franchises, proven fan bases, or unique elements to help mitigate risk.\n",
    "- Diversify Across Genres: To create a balanced portfolio, consider a mix of high-margin genres (e.g., Romance and Comedy) and moderate- to high-profit genres (e.g., Horror and Science Fiction). This approach offers both stability from high-margin films and potential high earnings from genres with proven audience demand.\n",
    "- Consider Low-Budget, High-Margin Opportunities: Investing in lower-budget films within high-margin genres can maximize returns. This is particularly effective in genres like Horror and Comedy, which often achieve high profitability with modest production budgets, appealing to a broad audience.\n",
    "\n",
    "These recommendations support a data-driven approach to genre selection, focusing on a balance of high-margin and high-demand genres to maximize returns and manage financial risk."
   ]
  },
  {
   "cell_type": "markdown",
   "metadata": {},
   "source": [
    "## Objective 3. How do specific directors influence Domestic Gross and Worldwide Gross figures, and which directors consistently contribute to higher success in box office performance?\n"
   ]
  },
  {
   "cell_type": "code",
   "execution_count": 159,
   "metadata": {},
   "outputs": [
    {
     "name": "stdout",
     "output_type": "stream",
     "text": [
      "Director Performance Correlation Matrix:\n",
      "                       Total_Domestic_Gross  Total_Worldwide_Gross  Film_Count\n",
      "Total_Domestic_Gross                1.00000               0.997360    0.990220\n",
      "Total_Worldwide_Gross               0.99736               1.000000    0.986375\n",
      "Film_Count                          0.99022               0.986375    1.000000\n"
     ]
    },
    {
     "data": {
      "image/png": "[encoded data removed]",
      "text/plain": [
       "<Figure size 720x576 with 2 Axes>"
      ]
     },
     "metadata": {
      "needs_background": "light"
     },
     "output_type": "display_data"
    }
   ],
   "source": [
    "# Merge the DataFrames on the 'Id' column\n",
    "\n",
    "merged_df = df_movie_info_cleaned.merge(\n",
    "    df_movie_budgets_cleaned, \n",
    "    on='Id', \n",
    "    how='inner'\n",
    ")\n",
    "\n",
    "# Aggregate total gross by director\n",
    "\n",
    "director_performance = merged_df.groupby('Director').agg(\n",
    "    Total_Domestic_Gross=('Domestic_Gross', 'sum'),\n",
    "    Total_Worldwide_Gross=('Worldwide_Gross', 'sum'),\n",
    "    Film_Count=('Id', 'count')  \n",
    ").reset_index()\n",
    "\n",
    "# Calculate and print correlation matrix for director performance\n",
    "\n",
    "director_correlation = director_performance[['Total_Domestic_Gross', 'Total_Worldwide_Gross', 'Film_Count']].corr()\n",
    "print(\"Director Performance Correlation Matrix:\")\n",
    "print(director_correlation)\n",
    "\n",
    "# Create heatmap for director performance\n",
    "\n",
    "plt.figure(figsize=(10, 8))\n",
    "sns.heatmap(director_correlation, annot=True, fmt=\".2f\", cmap='coolwarm', square=True)\n",
    "plt.title('Director Performance Correlation Heatmap')\n",
    "plt.show()\n"
   ]
  },
  {
   "cell_type": "markdown",
   "metadata": {},
   "source": [
    "### Observations and Insights from Director Performance Correlation Matrix\n",
    "\n",
    "1. **High Correlation Between Domestic and Worldwide Gross**:\n",
    "   - The correlation coefficient between **Total Domestic Gross** and **Total Worldwide Gross** is **0.996**. This indicates a very strong positive relationship, suggesting that directors who achieve high domestic revenue also tend to have high worldwide revenue.\n",
    "\n",
    "2. **Strong Influence of Film Count**:\n",
    "   - There is a high correlation (0.985) between **Film Count** and **Total Domestic Gross**, and a similarly strong correlation (0.974) with **Total Worldwide Gross**. This suggests that directors who have directed more films are likely to have higher total grosses, both domestically and worldwide.\n",
    "\n",
    "3. **Implication for Studio Collaboration**:\n",
    "   - Directors with a substantial number of films and high domestic and worldwide gross figures could be valuable collaborators for studios looking to maximize box office success.\n",
    "\n",
    "4. **Benchmarking Success**:\n",
    "   - The strong correlations indicate that studios can use the metrics of **Film Count** and **Gross Revenues** as benchmarks for assessing the success and impact of directors when considering future projects.\n"
   ]
  },
  {
   "cell_type": "markdown",
   "metadata": {},
   "source": [
    "To highlight the names of the directors based on the highest domestic profit, worldwide profit and film count, we analysed the data in `merged_df`."
   ]
  },
  {
   "cell_type": "code",
   "execution_count": 160,
   "metadata": {},
   "outputs": [],
   "source": [
    "# Merge the DataFrames on the 'Id' column\n",
    "merged_df = df_movie_info_cleaned.merge(\n",
    "    df_movie_budgets_cleaned, \n",
    "    on='Id', \n",
    "    how='inner'\n",
    ")\n",
    "\n",
    "# Aggregate total gross by director\n",
    "director_performance = merged_df.groupby('Director').agg(\n",
    "    Total_Domestic_Gross=('Domestic_Gross', 'sum'),\n",
    "    Total_Worldwide_Gross=('Worldwide_Gross', 'sum'),\n",
    "    Film_Count=('Id', 'count')  # Count of movies per director\n",
    ").reset_index()\n"
   ]
  },
  {
   "cell_type": "code",
   "execution_count": 161,
   "metadata": {},
   "outputs": [
    {
     "data": {
      "image/png": "[encoded data removed]",
      "text/plain": [
       "<Figure size 1296x432 with 3 Axes>"
      ]
     },
     "metadata": {
      "needs_background": "light"
     },
     "output_type": "display_data"
    }
   ],
   "source": [
    "# Remove the 'Unknown' director\n",
    "\n",
    "director_performance = director_performance[director_performance['Director'] != 'Unknown']\n",
    "\n",
    "# Get top 5 directors for each metric\n",
    "\n",
    "top_domestic = director_performance.nlargest(5, 'Total_Domestic_Gross')\n",
    "top_worldwide = director_performance.nlargest(5, 'Total_Worldwide_Gross')\n",
    "top_films = director_performance.nlargest(5, 'Film_Count')\n",
    "\n",
    "# Concatenate the top results into a single DataFrame for plotting\n",
    "\n",
    "top_directors = pd.concat([top_domestic, top_worldwide, top_films]).drop_duplicates().reset_index(drop=True)\n",
    "\n",
    "# Set the figure size and create subplots\n",
    "\n",
    "fig, axes = plt.subplots(1, 3, figsize=(18, 6))\n",
    "\n",
    "# Plot Total Domestic Gross vs Directors\n",
    "\n",
    "sns.barplot(x='Total_Domestic_Gross', y='Director', data=top_domestic, ax=axes[0], color='blue')\n",
    "axes[0].set_title('Top 5 Total Domestic Gross by Director')\n",
    "axes[0].set_xlabel('Gross ($)')\n",
    "axes[0].set_ylabel('Directors')\n",
    "\n",
    "# Plot Total Worldwide Gross vs Directors\n",
    "\n",
    "sns.barplot(x='Total_Worldwide_Gross', y='Director', data=top_worldwide, ax=axes[1], color='orange')\n",
    "axes[1].set_title('Top 5 Total Worldwide Gross by Director')\n",
    "axes[1].set_xlabel('Gross ($)')\n",
    "axes[1].set_ylabel('Directors')\n",
    "\n",
    "# Plot Film Count vs Directors\n",
    "\n",
    "sns.barplot(x='Film_Count', y='Director', data=top_films, ax=axes[2], color='green')\n",
    "axes[2].set_title('Top 5 Film Count by Director')\n",
    "axes[2].set_xlabel('Number of Films')\n",
    "axes[2].set_ylabel('Directors')\n",
    "\n",
    "# Adjust layout\n",
    "\n",
    "plt.tight_layout()\n",
    "\n",
    "# Show the plots\n",
    "\n",
    "plt.show()\n"
   ]
  },
  {
   "cell_type": "markdown",
   "metadata": {},
   "source": [
    "### Observation and insights\n",
    "\n",
    "Based on the domestic gross figures, the best directors were Jim Jarmusch and William Friedkin.\n",
    "Similar to the domestic figures plot, the worldwide gross indicates that William Friedkin and Jim Jarmusch grossed the highest.\n",
    "As per the film counts, the highest grossing director once again was William Friedkin. Roy Rowland comes in second, and Ernest Lubisch is third overall."
   ]
  },
  {
   "cell_type": "markdown",
   "metadata": {},
   "source": [
    "### Recommendations\n",
    "1. **Partner with High-Grossing Directors**: Studios should prioritize collaboration with directors who consistently generate high domestic and worldwide grosses, as their projects are likely to succeed across markets.\n",
    "2. **Consider Directors with Extensive Portfolios**: Directors with a high film count demonstrate strong revenue generation, making them reliable choices for maximizing box office performance.\n",
    "3. **Use Film Count and Gross Revenue for Director Benchmarking**: Studios can assess potential collaborations by analyzing a director's total grosses and film count to gauge their impact on box office success."
   ]
  },
  {
   "cell_type": "markdown",
   "metadata": {},
   "source": [
    "## 4. How do critic ratings and audience ratings correlate with the box office performance metrics (Domestic Gross and Worldwide Gross) of movies?\n"
   ]
  },
  {
   "cell_type": "code",
   "execution_count": 165,
   "metadata": {},
   "outputs": [
    {
     "name": "stdout",
     "output_type": "stream",
     "text": [
      "Correlation Matrix:\n",
      "                       Average_Critic_Rating  Domestic_Gross  Worldwide_Gross\n",
      "Average_Critic_Rating               1.000000       -0.002928        -0.016061\n",
      "Domestic_Gross                     -0.002928        1.000000         0.929064\n",
      "Worldwide_Gross                    -0.016061        0.929064         1.000000\n"
     ]
    },
    {
     "data": {
      "image/png": "[encoded data removed]",
      "text/plain": [
       "<Figure size 1008x432 with 2 Axes>"
      ]
     },
     "metadata": {
      "needs_background": "light"
     },
     "output_type": "display_data"
    }
   ],
   "source": [
    "# Merge DataFrames\n",
    "\n",
    "df_combined = pd.merge(df_movie_budgets_cleaned, df_reviews_cleaned, on='Id', how='inner')\n",
    "\n",
    "# Calculate Average Critic Rating\n",
    "\n",
    "average_ratings = df_combined.groupby('Movie')['Rating'].mean().reset_index()\n",
    "average_ratings.rename(columns={'Rating': 'Average_Critic_Rating'}, inplace=True)\n",
    "\n",
    "# Merge average ratings back to the combined DataFrame\n",
    "\n",
    "df_combined = pd.merge(df_combined, average_ratings, on='Movie')\n",
    "\n",
    "# Select relevant columns for analysis\n",
    "\n",
    "df_analysis = df_combined[['Movie', 'Average_Critic_Rating', 'Domestic_Gross', 'Worldwide_Gross']].drop_duplicates()\n",
    "\n",
    "# Correlation Analysis\n",
    "\n",
    "correlation_matrix = df_analysis[['Average_Critic_Rating', 'Domestic_Gross', 'Worldwide_Gross']].corr()\n",
    "\n",
    "# Print the correlation matrix\n",
    "\n",
    "print(\"Correlation Matrix:\")\n",
    "print(correlation_matrix)\n",
    "\n",
    "# Visualization\n",
    "\n",
    "plt.figure(figsize=(14, 6))\n",
    "\n",
    "# Scatter plot for Average Critic Rating vs Domestic Gross\n",
    "\n",
    "plt.subplot(1, 2, 1)\n",
    "sns.scatterplot(data=df_analysis, x='Average_Critic_Rating', y='Domestic_Gross')\n",
    "plt.title('Average Critic Rating vs Domestic Gross')\n",
    "plt.xlabel('Average Critic Rating')\n",
    "plt.ylabel('Domestic Gross ($)')\n",
    "\n",
    "# Scatter plot for Average Critic Rating vs Worldwide Gross\n",
    "\n",
    "plt.subplot(1, 2, 2)\n",
    "sns.scatterplot(data=df_analysis, x='Average_Critic_Rating', y='Worldwide_Gross')\n",
    "plt.title('Average Critic Rating vs Worldwide Gross')\n",
    "plt.xlabel('Average Critic Rating')\n",
    "plt.ylabel('Worldwide Gross ($)')\n",
    "\n",
    "plt.tight_layout()\n",
    "plt.show()\n"
   ]
  },
  {
   "cell_type": "markdown",
   "metadata": {},
   "source": [
    "### Insights from the Correlation Matrix\n",
    "\n",
    "1. **Average Critic Rating**:\n",
    "   - The correlation between **Average Critic Rating** and **Domestic Gross** is **-0.0039**, indicating no significant relationship. The correlation with **Worldwide Gross** is **-0.0188**, also showing a negligible inverse relationship. This suggests that higher critic ratings do not lead to better box office performance.\n",
    "\n",
    "2. **Domestic and Worldwide Gross**:\n",
    "   - A strong positive correlation (**0.9443**) exists between **Domestic Gross** and **Worldwide Gross**, indicating that films performing well domestically also tend to succeed globally.\n",
    "\n",
    "3. **Overall Implications**:\n",
    "   - The weak correlation between critic ratings and box office performance implies that audience preferences may differ from critical acclaim, allowing movies to thrive despite low ratings from critics.\n"
   ]
  },
  {
   "cell_type": "markdown",
   "metadata": {},
   "source": [
    "## Recommendations\n",
    "\n",
    "Studios should prioritize understanding audience preferences over achieving high critic ratings, as the data shows no significant impact of critic ratings on box office revenue."
   ]
  },
  {
   "cell_type": "code",
   "execution_count": 167,
   "metadata": {},
   "outputs": [
    {
     "data": {
      "image/png": "[encoded data removed]",
      "text/plain": [
       "<Figure size 864x432 with 1 Axes>"
      ]
     },
     "metadata": {
      "needs_background": "light"
     },
     "output_type": "display_data"
    }
   ],
   "source": [
    "# Merge the DataFrames on 'Id'\n",
    "df_combined = pd.merge(df_movie_info_cleaned, df_movie_budgets_cleaned, on='Id')\n",
    "\n",
    "\n",
    "# Create the box plot\n",
    "plt.figure(figsize=(12, 6))\n",
    "sns.boxplot(x='Rating', y='Production_Budget', data=df_combined)\n",
    "plt.title('Production Budget Distribution by Rating')\n",
    "plt.xlabel('Rating')\n",
    "plt.ylabel('Production Budget')\n",
    "plt.grid(axis='y')\n",
    "\n",
    "# Show the plot\n",
    "plt.show()"
   ]
  },
  {
   "cell_type": "markdown",
   "metadata": {},
   "source": [
    "### Observations and Insights Based on Movie Ratings\n"
   ]
  },
  {
   "cell_type": "markdown",
   "metadata": {},
   "source": [
    "The boxplot above shows the distribution of production budgets across various movie rating categories, including Restricted, Not Rated, Parental Guidance Suggested, Parents Strongly Cautioned, and General Audience. Here are some insights based on the visualization:\n",
    "\n",
    "- Higher Budgets for Restricted Movies: Restricted movies (often aimed at adult audiences) generally have higher production budgets, with a broader range and several high-budget outliers, compared to movies rated for younger or general\n",
    "\n",
    "- Lower Budgets for General Audience Movies: Movies rated for General Audiences (suitable for all ages) tend to have lower budgets on average, suggesting that family-friendly or all-age films may require fewer production resources.\n",
    "\n",
    "- Outliers Across Categories: Each rating category has outliers, indicating that while most films fall within a typical budget range, there are exceptions across all ratings where some movies have significantly higher budgets.\n",
    "\n",
    "- Budget Variability by Rating: The variability in budgets seems highest in the Restricted category and lowest for General Audience films, possibly reflecting a wider range of themes and production scales for movies not targeted at younger viewers.\n",
    "\n",
    "This analysis could help guide decisions on budget allocation depending on the intended target audience or rating, especially if budget is a constraint."
   ]
  },
  {
   "cell_type": "markdown",
   "metadata": {},
   "source": [
    "### 5.How can we analyze market trends by year to identify seasonal or annual influences on box office success? What insights can be gained to inform optimal release timing and production focus based on historical trends?\n"
   ]
  },
  {
   "cell_type": "code",
   "execution_count": 66,
   "metadata": {},
   "outputs": [
    {
     "data": {
      "image/png": "[encoded data removed]",
      "text/plain": [
       "<Figure size 864x432 with 1 Axes>"
      ]
     },
     "metadata": {
      "needs_background": "light"
     },
     "output_type": "display_data"
    }
   ],
   "source": [
    "# Merging movie_info and movie_budget DataFrames\n",
    "combined_df = pd.merge(df_movie_info_cleaned, df_movie_budgets_cleaned, on='Id', how='outer')\n",
    "\n",
    "# Grouping by Year to get required metrics\n",
    "yearly_data = combined_df.groupby('Year').agg({\n",
    "    'Domestic_Gross': 'sum',\n",
    "    'Worldwide_Gross': 'sum',\n",
    "    'Production_Budget': 'mean',\n",
    "}).reset_index()\n",
    "\n",
    "# Filter the data to include only years from 1980 onwards\n",
    "yearly_data = yearly_data[yearly_data['Year'] >= 1980]\n",
    "\n",
    "# Plotting the cumulative box office performance\n",
    "plt.figure(figsize=(12, 6))\n",
    "\n",
    "# Fill between for Domestic Gross\n",
    "plt.fill_between(yearly_data['Year'], yearly_data['Domestic_Gross'], label='Domestic Gross', alpha=0.5, color='blue')\n",
    "\n",
    "# Fill between for Worldwide Gross\n",
    "plt.fill_between(yearly_data['Year'], yearly_data['Worldwide_Gross'], label='Worldwide Gross', alpha=0.5, color='orange')\n",
    "\n",
    "# Adding titles and labels\n",
    "plt.title('Cumulative Box Office Performance Over Time (1980 onwards)')\n",
    "plt.xlabel('Year')\n",
    "plt.ylabel('Gross Revenue ($)')\n",
    "plt.legend()\n",
    "plt.grid()\n",
    "\n",
    "# Show the plot\n",
    "plt.show()\n"
   ]
  },
  {
   "cell_type": "markdown",
   "metadata": {},
   "source": [
    "## Insights from Box Office Data\n",
    "\n",
    "### Overall Box Office Trends\n",
    "- **Increasing Revenue**: Both Domestic Gross and Worldwide Gross show a general upward trend, especially from the early 1980s to the mid-2000s.\n",
    "-\n",
    "### Production Budget Insights\n",
    "- **Rising Budgets**: Average Production Budgets have increased significantly, from around 29.8 million dollars in 2000 to approximately 47.7 million dollars by 2015.\n",
    "- **Budget vs. Gross Performance**: Correlating production budgets with gross revenues could reveal ROI trends.\n",
    "\n",
    "### Volatility in Performance\n",
    "- **Fluctuations**: Notable drops in Domestic Gross since 2019 indicate potential market challenges, possibly due to external factors like the COVID-19 pandemic.\n",
    "\n",
    "### Market Changes and Viewer Behavior\n",
    "- **Impact of Streaming**: The rise of streaming services is shifting consumer behavior, necessitating adaptations in production and marketing strategies.\n"
   ]
  },
  {
   "cell_type": "markdown",
   "metadata": {},
   "source": [
    "Next, we plot a bar chart to show the seasonal influences in terms of revenue."
   ]
  },
  {
   "cell_type": "code",
   "execution_count": 171,
   "metadata": {},
   "outputs": [
    {
     "name": "stdout",
     "output_type": "stream",
     "text": [
      "Empty DataFrame\n",
      "Columns: [Id, Rating, Genre, Director, Runtime, Release_Date, Movie, Production_Budget, Domestic_Gross, Worldwide_Gross, Year, 0, Profit, Profit_Margin, Budget_Category, Profit_Margin_Scaled, Month]\n",
      "Index: []\n"
     ]
    },
    {
     "data": {
      "image/png": "[encoded data removed]",
      "text/plain": [
       "<Figure size 864x432 with 1 Axes>"
      ]
     },
     "metadata": {
      "needs_background": "light"
     },
     "output_type": "display_data"
    }
   ],
   "source": [
    "# Find rows where 'Release_Date' is still not in datetime format\n",
    "non_datetime = combined_df[pd.to_datetime(combined_df['Release_Date'], errors='coerce').isna()]\n",
    "print(non_datetime)\n",
    "\n",
    "# Drop rows where 'Release_Date' cannot be converted\n",
    "combined_df = combined_df.dropna(subset=['Release_Date'])\n",
    "\n",
    "# Re-run conversion\n",
    "combined_df['Release_Date'] = pd.to_datetime(combined_df['Release_Date'])\n",
    "combined_df['Month'] = combined_df['Release_Date'].dt.month\n",
    "\n",
    "# Assuming combined_df already exists and has a 'Release_Date' column in datetime format\n",
    "# and it has columns 'Genre' and 'Domestic_Gross'.\n",
    "\n",
    "# Extract month from Release_Date\n",
    "combined_df['Month'] = combined_df['Release_Date'].dt.month\n",
    "\n",
    "# Create monthly genre performance DataFrame\n",
    "monthly_genre_performance = combined_df.groupby(['Month', 'Genre']).agg({\n",
    "    'Domestic_Gross': 'sum'\n",
    "}).reset_index()\n",
    "\n",
    "# Assign seasons based on month\n",
    "def get_season(month):\n",
    "    if month in [12, 1, 2]:\n",
    "        return 'Winter'\n",
    "    elif month in [3, 4, 5]:\n",
    "        return 'Spring'\n",
    "    elif month in [6, 7, 8]:\n",
    "        return 'Summer'\n",
    "    else:\n",
    "        return 'Fall'\n",
    "\n",
    "# Apply the get_season function to assign seasons\n",
    "monthly_genre_performance['Season'] = monthly_genre_performance['Month'].apply(get_season)\n",
    "\n",
    "# Group by Season and Genre to calculate total domestic gross\n",
    "seasonal_genre_performance = monthly_genre_performance.groupby(['Season', 'Genre']).agg({\n",
    "    'Domestic_Gross': 'sum'\n",
    "}).reset_index()\n",
    "\n",
    "# Get top 5 genres for each season\n",
    "top_genres_per_season = seasonal_genre_performance.groupby('Season').apply(\n",
    "    lambda x: x.nlargest(5, 'Domestic_Gross')\n",
    ").reset_index(drop=True)\n",
    "\n",
    "\n",
    "# Create a bar plot to visualize the results\n",
    "plt.figure(figsize=(12, 6))\n",
    "sns.barplot(data=top_genres_per_season, x='Season', y='Domestic_Gross', hue='Genre')\n",
    "\n",
    "# Titles and labels\n",
    "plt.title('Top 5 Genre Performance by Season (Domestic Gross)')\n",
    "plt.xlabel('Season')\n",
    "plt.ylabel('Domestic Gross Revenue ($)')\n",
    "plt.legend(title='Genre', bbox_to_anchor=(1.05, 1), loc='upper left')  # Legend on the side\n",
    "plt.grid()\n",
    "\n",
    "# Show the plot\n",
    "plt.tight_layout()  # Adjust layout to make room for the legend\n",
    "plt.show()\n"
   ]
  },
  {
   "cell_type": "markdown",
   "metadata": {},
   "source": [
    "### Key Insights from Seasonal Genre Performance\n",
    "\n",
    "1. **Dominance of Drama**:\n",
    "   - Drama consistently outperforms other genres across all seasons, indicating a strong audience appeal year-round.\n",
    "\n",
    "2. **Strong Performance of Comedy**:\n",
    "   - Comedy ranks as the second-best genre in all seasons, especially in Summer, suggesting broad appeal and profitability.\n",
    "\n",
    "3. **Seasonal Trends**:\n",
    "   - **Fall**: Action and Adventure and Mystery and Suspense also show strong performances.\n",
    "   - **Spring**: Similar to Fall, with consistent interest in these genres.\n",
    "   - **Summer**: Blockbuster releases thrive alongside Drama and Comedy.\n",
    "   - **Winter**: Classics emerge, indicating nostalgia-driven viewing.\n",
    "\n",
    "4. **Market Strategy**:\n",
    "   - Focusing on high-quality dramatic films year-round and timing releases for specific genres according to seasonal preferences can maximize audience engagement.\n",
    "\n",
    "5. **Diversity in Genre Performance**:\n",
    "   - Genres like Mystery and Suspense maintain top positions but are less dominant than Drama and Comedy, indicating opportunities for targeted marketing.\n",
    "\n",
    "### Recommendations\n",
    "- Align release schedules with genre performance trends for maximum impact.\n",
    "- Conduct audience analysis to refine marketing strategies based on seasonal preferences.\n",
    "- Explore unique narratives in niche genres to capture a wider audience base.\n"
   ]
  },
  {
   "cell_type": "markdown",
   "metadata": {},
   "source": [
    "## Model"
   ]
  }
 ],
 "metadata": {
  "kernelspec": {
   "display_name": "Python 3",
   "language": "python",
   "name": "python3"
  },
  "language_info": {
   "codemirror_mode": {
    "name": "ipython",
    "version": 3
   },
   "file_extension": ".py",
   "mimetype": "text/x-python",
   "name": "python",
   "nbconvert_exporter": "python",
   "pygments_lexer": "ipython3",
   "version": "3.8.5"
  }
 },
 "nbformat": 4,
 "nbformat_minor": 4
}
